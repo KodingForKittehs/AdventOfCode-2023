{
  "cells": [
    {
      "cell_type": "markdown",
      "metadata": {
        "id": "w8ceaZ_mk7lS"
      },
      "source": [
        "# [--- Day 16: The Floor Will Be Lava ---](https://adventofcode.com/2023/day/15)\n"
      ]
    },
    {
      "cell_type": "markdown",
      "metadata": {
        "id": "fvqtPafJvU7U"
      },
      "source": [
        "## Setup\n",
        "\n",
        "Use the `input` file if present, otherwise use the sample input."
      ]
    },
    {
      "cell_type": "code",
      "execution_count": 35,
      "metadata": {
        "id": "pG0fZk4xjQL8",
        "outputId": "661f5be7-31f7-4eda-f16d-9bb1ad93839d",
        "colab": {
          "base_uri": "https://localhost:8080/"
        }
      },
      "outputs": [
        {
          "output_type": "stream",
          "name": "stdout",
          "text": [
            "[['.' '|' '.' '.' '.' '\\\\' '.' '.' '.' '.']\n",
            " ['|' '.' '-' '.' '\\\\' '.' '.' '.' '.' '.']\n",
            " ['.' '.' '.' '.' '.' '|' '-' '.' '.' '.']\n",
            " ['.' '.' '.' '.' '.' '.' '.' '.' '|' '.']\n",
            " ['.' '.' '.' '.' '.' '.' '.' '.' '.' '.']\n",
            " ['.' '.' '.' '.' '.' '.' '.' '.' '.' '\\\\']\n",
            " ['.' '.' '.' '.' '/' '.' '\\\\' '\\\\' '.' '.']\n",
            " ['.' '-' '.' '-' '/' '.' '.' '|' '.' '.']\n",
            " ['.' '|' '.' '.' '.' '.' '-' '|' '.' '\\\\']\n",
            " ['.' '.' '/' '/' '.' '|' '.' '.' '.' '.']]\n",
            "[['.' '|' '.' '.' '.' '\\\\' '.' '.' '.' '.']\n",
            " ['|' '.' '-' '.' '\\\\' '.' '.' '.' '.' '.']\n",
            " ['.' '.' '.' '.' '.' '|' '-' '.' '.' '.']\n",
            " ['.' '.' '.' '.' '.' '.' '.' '.' '|' '.']\n",
            " ['.' '.' '.' '.' '.' '.' '.' '.' '.' '.']\n",
            " ['.' '.' '.' '.' '.' '.' '.' '.' '.' '\\\\']\n",
            " ['.' '.' '.' '.' '/' '.' '\\\\' '\\\\' '.' '.']\n",
            " ['.' '-' '.' '-' '/' '.' '.' '|' '.' '.']\n",
            " ['.' '|' '.' '.' '.' '.' '-' '|' '.' '\\\\']\n",
            " ['.' '.' '/' '/' '.' '|' '.' '.' '.' '.']]\n"
          ]
        }
      ],
      "source": [
        "import numpy as np\n",
        "from collections import deque\n",
        "\n",
        "try:\n",
        "  input = open(\"input\", \"r\").read().splitlines()\n",
        "except FileNotFoundError:\n",
        "  input = open(\"sample\", \"r\").read().splitlines()\n",
        "\n",
        "nin = np.array([list(cc) for cc in input])\n",
        "print(nin)\n",
        "out = np.copy(nin)\n",
        "print(out)\n",
        "\n",
        "UP = (-1, 0)\n",
        "DOWN = (1, 0)\n",
        "RIGHT = (0, 1)\n",
        "LEFT = (0, -1)\n"
      ]
    },
    {
      "cell_type": "markdown",
      "metadata": {
        "id": "ZkJcxUGJvqa1"
      },
      "source": [
        "## Functions and Classes\n"
      ]
    },
    {
      "cell_type": "code",
      "source": [
        "def is_outside(pos, arr):\n",
        "  return pos[0] < 0 or pos[0] >= arr.shape[0] or pos[1] < 0 or pos[1] >= arr.shape[1]"
      ],
      "metadata": {
        "id": "8ZkTGGJIot3l"
      },
      "execution_count": 36,
      "outputs": []
    },
    {
      "cell_type": "code",
      "source": [
        "def get_energy(pos, dir):\n",
        "  energized = {pos}\n",
        "  laserbeams = deque()\n",
        "  seen = {(pos, dir)}\n",
        "  laserbeams.append((pos, dir))\n",
        "\n",
        "  while laserbeams:\n",
        "    curr, dir = laserbeams.pop()\n",
        "    symbol = nin[curr[0], curr[1]]\n",
        "    next = []\n",
        "\n",
        "    match symbol, dir:\n",
        "      case '/', (-1, 0):\n",
        "        next = [RIGHT]\n",
        "      case '/', (1, 0):\n",
        "        next = [LEFT]\n",
        "      case '/', (0, -1):\n",
        "        next = [DOWN]\n",
        "      case '/', (0, 1):\n",
        "        next = [UP]\n",
        "\n",
        "      case '\\\\', (-1, 0):\n",
        "        next = [LEFT]\n",
        "      case '\\\\', (1, 0):\n",
        "        next = [RIGHT]\n",
        "      case '\\\\', (0, -1):\n",
        "        next = [UP]\n",
        "      case '\\\\', (0, 1):\n",
        "        next = [DOWN]\n",
        "\n",
        "      case '-', (-1, 0):\n",
        "        next = [LEFT, RIGHT]\n",
        "      case '-', (1, 0):\n",
        "        next = [LEFT, RIGHT]\n",
        "      case '|', (0, 1):\n",
        "        next = [UP, DOWN]\n",
        "      case '|', (0, -1):\n",
        "        next = [UP, DOWN]\n",
        "\n",
        "      case _, _:\n",
        "        next = [dir]\n",
        "\n",
        "    for d in next:\n",
        "      next_curr = (curr[0]+d[0], curr[1]+d[1])\n",
        "      if not is_outside(next_curr, nin) and (next_curr, d) not in seen:\n",
        "        energized.add(next_curr)\n",
        "        out[next_curr[0], next_curr[1]] = \"#\"\n",
        "        seen.add((next_curr, d))\n",
        "        laserbeams.append((next_curr, d))\n",
        "\n",
        "  return len(energized)\n"
      ],
      "metadata": {
        "id": "Zjvb7rw9Fzak"
      },
      "execution_count": 37,
      "outputs": []
    },
    {
      "cell_type": "markdown",
      "metadata": {
        "id": "08Fu6C_MFxOB"
      },
      "source": [
        "## Part 1"
      ]
    },
    {
      "cell_type": "code",
      "execution_count": 38,
      "metadata": {
        "id": "ji5D5v1DFxOB",
        "outputId": "b82f7cb2-099f-4f5c-af62-80f7687cf7d1",
        "colab": {
          "base_uri": "https://localhost:8080/"
        }
      },
      "outputs": [
        {
          "output_type": "stream",
          "name": "stdout",
          "text": [
            "46\n"
          ]
        }
      ],
      "source": [
        "p1 = get_energy((0, 0), RIGHT)\n",
        "print(p1)\n",
        "assert(p1 == 46)\n"
      ]
    },
    {
      "cell_type": "markdown",
      "metadata": {
        "id": "B5jQ8I_UFxOB"
      },
      "source": [
        "## Part 2\n"
      ]
    },
    {
      "cell_type": "code",
      "execution_count": 39,
      "metadata": {
        "id": "QAwLO9mqFxOC",
        "outputId": "015f756d-dbff-4b93-a94d-f4d00a175ce7",
        "colab": {
          "base_uri": "https://localhost:8080/"
        }
      },
      "outputs": [
        {
          "output_type": "stream",
          "name": "stdout",
          "text": [
            "51\n"
          ]
        }
      ],
      "source": [
        "p2 = 0\n",
        "for i in range(nin.shape[0]):\n",
        "  energy = get_energy((i, 0), RIGHT)\n",
        "  p2 = max(p2, energy)\n",
        "  energy = get_energy((i, nin.shape[1]-1), LEFT)\n",
        "  p2= max(p2, energy)\n",
        "for j in range(nin.shape[1]):\n",
        "  energy = get_energy((0, j), DOWN)\n",
        "  p2 = max(p2, energy)\n",
        "  energy = get_energy((nin.shape[0]-1, j), UP)\n",
        "  p2 = max(p2, energy)\n",
        "\n",
        "print(p2)\n",
        "assert(p2 == 51)"
      ]
    }
  ],
  "metadata": {
    "colab": {
      "provenance": []
    },
    "kernelspec": {
      "display_name": "Python 3",
      "name": "python3"
    },
    "language_info": {
      "codemirror_mode": {
        "name": "ipython",
        "version": 3
      },
      "file_extension": ".py",
      "mimetype": "text/x-python",
      "name": "python",
      "nbconvert_exporter": "python",
      "pygments_lexer": "ipython3",
      "version": "3.10.13"
    }
  },
  "nbformat": 4,
  "nbformat_minor": 0
}