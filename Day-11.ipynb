{
  "cells": [
    {
      "cell_type": "markdown",
      "metadata": {
        "id": "w8ceaZ_mk7lS"
      },
      "source": [
        "# [--- Day 11: Cosmic Expansion ---](https://adventofcode.com/2023/day/11)\n",
        "\n",
        "* Manhatten distance, `itertools.combinations`"
      ]
    },
    {
      "cell_type": "markdown",
      "metadata": {
        "id": "fvqtPafJvU7U"
      },
      "source": [
        "## Setup\n",
        "\n",
        "Use the `input` file if present, otherwise use the sample input."
      ]
    },
    {
      "cell_type": "code",
      "execution_count": 1,
      "metadata": {
        "id": "pG0fZk4xjQL8"
      },
      "outputs": [
        {
          "name": "stdout",
          "output_type": "stream",
          "text": [
            "[['.' '.' '.' '#' '.' '.' '.' '.' '.' '.']\n",
            " ['.' '.' '.' '.' '.' '.' '.' '#' '.' '.']\n",
            " ['#' '.' '.' '.' '.' '.' '.' '.' '.' '.']\n",
            " ['.' '.' '.' '.' '.' '.' '.' '.' '.' '.']\n",
            " ['.' '.' '.' '.' '.' '.' '#' '.' '.' '.']\n",
            " ['.' '#' '.' '.' '.' '.' '.' '.' '.' '.']\n",
            " ['.' '.' '.' '.' '.' '.' '.' '.' '.' '#']\n",
            " ['.' '.' '.' '.' '.' '.' '.' '.' '.' '.']\n",
            " ['.' '.' '.' '.' '.' '.' '.' '#' '.' '.']\n",
            " ['#' '.' '.' '.' '#' '.' '.' '.' '.' '.']]\n"
          ]
        }
      ],
      "source": [
        "import numpy as np\n",
        "is_sample = False\n",
        "\n",
        "try:\n",
        "  input = open(\"input\", \"r\").read().splitlines()\n",
        "except FileNotFoundError:\n",
        "  input = \"\"\"...#......\n",
        ".......#..\n",
        "#.........\n",
        "..........\n",
        "......#...\n",
        ".#........\n",
        ".........#\n",
        "..........\n",
        ".......#..\n",
        "#...#.....\"\"\"\n",
        "  input = input.split()\n",
        "  is_sample = True\n",
        "\n",
        "nin = [[c for c in line] for line in input]\n",
        "nin = np.array(nin)\n",
        "print(nin)\n"
      ]
    },
    {
      "cell_type": "markdown",
      "metadata": {
        "id": "ZkJcxUGJvqa1"
      },
      "source": [
        "## Functions and Classes\n",
        "\n"
      ]
    },
    {
      "cell_type": "code",
      "execution_count": 2,
      "metadata": {},
      "outputs": [
        {
          "data": {
            "text/plain": [
              "[2, 5, 8]"
            ]
          },
          "execution_count": 2,
          "metadata": {},
          "output_type": "execute_result"
        }
      ],
      "source": [
        "def empty_rows(nin):\n",
        "    for i, row in enumerate(nin):\n",
        "        empty = all([c == '.' for c in row])\n",
        "        if empty:\n",
        "            yield i\n",
        "\n",
        "def empty_cols(nin):\n",
        "    colw = len(nin[0])\n",
        "    for i in range(colw):\n",
        "        col = nin[:,i]\n",
        "        empty = all([c == '.' for c in col])\n",
        "        if empty:\n",
        "            yield i\n",
        "\n",
        "list(empty_rows(nin))\n",
        "list(empty_cols(nin))"
      ]
    },
    {
      "cell_type": "code",
      "execution_count": 3,
      "metadata": {},
      "outputs": [],
      "source": [
        "def expand_rows(nin, rows_to_expand, c):\n",
        "  for row in rows_to_expand:\n",
        "    nin = np.insert(nin, row, [c] * nin.shape[1], axis=0)\n",
        "  return nin\n",
        "\n",
        "\n",
        "def expand_cols(nin, cols_to_expand, c):\n",
        "  for col in cols_to_expand:\n",
        "    nin = np.insert(nin, col, [c] * nin.shape[0], axis=1)\n",
        "  return nin\n"
      ]
    },
    {
      "cell_type": "markdown",
      "metadata": {},
      "source": [
        "## Part 1"
      ]
    },
    {
      "cell_type": "code",
      "execution_count": 4,
      "metadata": {},
      "outputs": [
        {
          "name": "stdout",
          "output_type": "stream",
          "text": [
            "[(0, 4), (1, 9), (2, 0), (5, 8), (6, 1), (7, 12), (10, 9), (11, 0), (11, 5)]\n",
            "374\n"
          ]
        }
      ],
      "source": [
        "res = 0\n",
        "\n",
        "rows_to_expand = reversed(list(empty_rows(nin)))\n",
        "cols_to_expand = reversed(list(empty_cols(nin)))\n",
        "\n",
        "p1nin = expand_rows(nin, rows_to_expand, \".\")\n",
        "p1nin = expand_cols(p1nin, cols_to_expand, \".\")\n",
        "\n",
        "galaxies = []\n",
        "for i, row in enumerate(p1nin):\n",
        "  for j, c in enumerate(row):\n",
        "    if c == \"#\":\n",
        "      galaxies.append((i, j))\n",
        "print(galaxies)\n",
        "\n",
        "for g1 in galaxies:\n",
        "  for g2 in galaxies:\n",
        "    res += abs(g1[0] - g2[0]) + abs(g1[1] - g2[1])\n",
        "\n",
        "res = int(res/2)\n",
        "print(res)\n",
        "assert(res == 374)"
      ]
    },
    {
      "cell_type": "markdown",
      "metadata": {},
      "source": [
        "## Part 2"
      ]
    },
    {
      "cell_type": "code",
      "execution_count": 5,
      "metadata": {},
      "outputs": [
        {
          "name": "stdout",
          "output_type": "stream",
          "text": [
            "[(0, 3), (1, 7), (2, 0), (4, 6), (5, 1), (6, 9), (8, 7), (9, 0), (9, 4)]\n",
            "8410\n"
          ]
        }
      ],
      "source": [
        "size_mult = 100\n",
        "res = 0\n",
        "rows_to_expand = list(empty_rows(nin))\n",
        "cols_to_expand = list(empty_cols(nin))\n",
        "\n",
        "galaxies = []\n",
        "for i, row in enumerate(nin):\n",
        "  for j, c in enumerate(row):\n",
        "    if c == \"#\":\n",
        "      galaxies.append((i, j))\n",
        "\n",
        "print(galaxies)\n",
        "\n",
        "from itertools import combinations\n",
        "for gcombo in combinations(galaxies, 2):\n",
        "  g1 = gcombo[0]\n",
        "  g2 = gcombo[1]\n",
        "  igaps = 0\n",
        "  jgaps = 0\n",
        "  for i in rows_to_expand:\n",
        "      if min(g1[0], g2[0]) <= i < max(g1[0], g2[0]):\n",
        "        igaps += (size_mult - 1)\n",
        "  for j in cols_to_expand:\n",
        "      if min(g1[1], g2[1]) <= j < max(g1[1], g2[1]):\n",
        "        jgaps += (size_mult - 1)\n",
        "      \n",
        "  res += abs(g1[0] - g2[0]) + abs(g1[1] - g2[1]) + igaps + jgaps\n",
        "\n",
        "print(res)\n",
        "if size_mult == 10:\n",
        "    assert(res == 1030)\n",
        "if size_mult == 100:\n",
        "    assert(res == 8410)\n"
      ]
    }
  ],
  "metadata": {
    "colab": {
      "authorship_tag": "ABX9TyOm395W/3CnLlVjsksb/bEH",
      "include_colab_link": true,
      "provenance": []
    },
    "kernelspec": {
      "display_name": "Python 3",
      "name": "python3"
    },
    "language_info": {
      "codemirror_mode": {
        "name": "ipython",
        "version": 3
      },
      "file_extension": ".py",
      "mimetype": "text/x-python",
      "name": "python",
      "nbconvert_exporter": "python",
      "pygments_lexer": "ipython3",
      "version": "3.10.13"
    }
  },
  "nbformat": 4,
  "nbformat_minor": 0
}
