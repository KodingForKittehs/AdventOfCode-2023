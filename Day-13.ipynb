{
  "cells": [
    {
      "cell_type": "markdown",
      "metadata": {
        "id": "w8ceaZ_mk7lS"
      },
      "source": [
        "# [--- Day 13: Point of Incidence ---](https://adventofcode.com/2023/day/13)\n",
        "\n",
        "An Absolute Horror, how does this even work..thank you numpy for saving me from debugging the array flipping stuff.\n",
        "\n",
        "* At least I learned a lot about Numpy\n",
        "* Indexing 2D, `numpy.flip`, `numpy.shape`"
      ]
    },
    {
      "cell_type": "markdown",
      "metadata": {
        "id": "fvqtPafJvU7U"
      },
      "source": [
        "## Setup\n",
        "\n",
        "Use the `input` file if present, otherwise use the sample input."
      ]
    },
    {
      "cell_type": "code",
      "execution_count": 439,
      "metadata": {
        "id": "pG0fZk4xjQL8"
      },
      "outputs": [
        {
          "name": "stdout",
          "output_type": "stream",
          "text": [
            "[array([['#', '.', '#', '#', '.', '.', '#', '#', '.'],\n",
            "       ['.', '.', '#', '.', '#', '#', '.', '#', '.'],\n",
            "       ['#', '#', '.', '.', '.', '.', '.', '.', '#'],\n",
            "       ['#', '#', '.', '.', '.', '.', '.', '.', '#'],\n",
            "       ['.', '.', '#', '.', '#', '#', '.', '#', '.'],\n",
            "       ['.', '.', '#', '#', '.', '.', '#', '#', '.'],\n",
            "       ['#', '.', '#', '.', '#', '#', '.', '#', '.']], dtype='<U1'), array([['#', '.', '.', '.', '#', '#', '.', '.', '#'],\n",
            "       ['#', '.', '.', '.', '.', '#', '.', '.', '#'],\n",
            "       ['.', '.', '#', '#', '.', '.', '#', '#', '#'],\n",
            "       ['#', '#', '#', '#', '#', '.', '#', '#', '.'],\n",
            "       ['#', '#', '#', '#', '#', '.', '#', '#', '.'],\n",
            "       ['.', '.', '#', '#', '.', '.', '#', '#', '#'],\n",
            "       ['#', '.', '.', '.', '.', '#', '.', '.', '#']], dtype='<U1')]\n"
          ]
        }
      ],
      "source": [
        "import numpy as np\n",
        "is_sample = False\n",
        "\n",
        "try:\n",
        "  input = open(\"input\", \"r\").read().splitlines()\n",
        "except FileNotFoundError:\n",
        "  input = \"\"\"#.##..##.\n",
        "..#.##.#.\n",
        "##......#\n",
        "##......#\n",
        "..#.##.#.\n",
        "..##..##.\n",
        "#.#.##.#.\n",
        "\n",
        "#...##..#\n",
        "#....#..#\n",
        "..##..###\n",
        "#####.##.\n",
        "#####.##.\n",
        "..##..###\n",
        "#....#..#\"\"\"\n",
        "\n",
        "  input = input.split(\"\\n\")\n",
        "  is_sample = True\n",
        "\n",
        "grids = []\n",
        "grid = []\n",
        "for line in input:\n",
        "  #print(line)\n",
        "  if line == \"\":\n",
        "    nin = [[c for c in cl] for cl in grid]\n",
        "    nin = np.array(nin)\n",
        "    grids.append(np.array(nin))\n",
        "    grid = []\n",
        "  else:\n",
        "    grid.append(line)\n",
        "nin = [[c for c in cl] for cl in grid]\n",
        "nin = np.array(nin)\n",
        "grids.append(np.array(nin))\n",
        "\n",
        "print(grids)\n",
        "\n",
        "\n"
      ]
    },
    {
      "cell_type": "markdown",
      "metadata": {
        "id": "ZkJcxUGJvqa1"
      },
      "source": [
        "## Functions and Classes\n",
        "\n"
      ]
    },
    {
      "cell_type": "code",
      "execution_count": 440,
      "metadata": {},
      "outputs": [
        {
          "name": "stdout",
          "output_type": "stream",
          "text": [
            "{4}\n"
          ]
        }
      ],
      "source": [
        "def get_horiz(grid):\n",
        "    mirrors = set()\n",
        "    for i in range(1, (len(grid)+1)//2):\n",
        "        refl = np.flip(grid[0:i], axis=0)\n",
        "        comp = grid[i:i*2]\n",
        "        if np.array_equal(refl, comp):\n",
        "            mirrors.add(i)\n",
        "\n",
        "        refl = np.flip(grid[-i:], axis=0)\n",
        "        comp = grid[-i*2:-i]\n",
        "        if np.array_equal(refl, comp):\n",
        "            mirrors.add(len(grid) - i)\n",
        "    return mirrors\n",
        "\n",
        "print(get_horiz(grids[1]))"
      ]
    },
    {
      "cell_type": "code",
      "execution_count": 441,
      "metadata": {},
      "outputs": [
        {
          "name": "stdout",
          "output_type": "stream",
          "text": [
            "{5}\n"
          ]
        }
      ],
      "source": [
        "def get_vert(grid):\n",
        "    mirrors = set()\n",
        "    cols = grid.shape[1]\n",
        "    for i in range(1, (cols+1)//2):\n",
        "        #refl = np.flip(grid[:i], axis=1)\n",
        "        refl = np.flip(grid[:,0:i], axis=1)\n",
        "        comp = grid[:,i:i*2]\n",
        "        #print(refl)\n",
        "        #print(comp)\n",
        "        if np.array_equal(refl, comp):\n",
        "            mirrors.add(i)\n",
        "\n",
        "        refl = np.flip(grid[:,-i:], axis=1)\n",
        "        comp = grid[:,-i*2:-i]\n",
        "        #print(refl)\n",
        "        #print(comp)\n",
        "        if np.array_equal(refl, comp):\n",
        "            mirrors.add(cols - i)\n",
        "    return mirrors\n",
        "\n",
        "print(get_vert(grids[0]))"
      ]
    },
    {
      "cell_type": "markdown",
      "metadata": {},
      "source": [
        "## Part 1"
      ]
    },
    {
      "cell_type": "code",
      "execution_count": 444,
      "metadata": {},
      "outputs": [],
      "source": [
        "def score(grid):\n",
        "    vert = get_vert(grid)\n",
        "    horz = get_horiz(grid)\n",
        "\n",
        "    if vert:\n",
        "        # We messed up if there's more than 1 mirror in part 1\n",
        "        assert(len(vert) == 1)\n",
        "        return vert.pop()\n",
        "    if horz:\n",
        "        assert(len(horz) == 1)\n",
        "        return (horz.pop() * 100)\n",
        "    assert(False)  # Expecting at least 1 mirror"
      ]
    },
    {
      "cell_type": "code",
      "execution_count": 445,
      "metadata": {},
      "outputs": [
        {
          "name": "stdout",
          "output_type": "stream",
          "text": [
            "405\n"
          ]
        }
      ],
      "source": [
        "res = 0\n",
        "\n",
        "for grid in grids:\n",
        "    res += score(grid)\n",
        "\n",
        "print(res)\n",
        "assert(res == 405 or res == 36015) "
      ]
    },
    {
      "cell_type": "markdown",
      "metadata": {},
      "source": [
        "## Part \n",
        "This was a nightmare to debug, I ended up having to manually inspect a lot of the debugging output I added."
      ]
    },
    {
      "cell_type": "code",
      "execution_count": 446,
      "metadata": {},
      "outputs": [],
      "source": [
        "def p2_score(grid):\n",
        "    #print(grid)\n",
        "    p1_score = score(grid)\n",
        "    print(\"p1 score\", p1_score)\n",
        "    for i in range(grid.shape[0]):\n",
        "        for j in range(grid.shape[1]):\n",
        "            grid[i, j] = \".\" if grid[i, j] == \"#\" else \"#\"\n",
        "            horz = get_horiz(grid)\n",
        "            vert = get_vert(grid)\n",
        "            grid[i, j] = \".\" if grid[i, j] == \"#\" else \"#\"\n",
        "\n",
        "            if p1_score/100 in horz:\n",
        "                horz.remove(p1_score/100)\n",
        "            if p1_score%100 in vert:\n",
        "                vert.remove(p1_score%100)\n",
        "            if horz:\n",
        "                assert(len(horz) == 1)\n",
        "                print(f\"putting horz {horz} smudge at {i} {j} for\")\n",
        "                print(grid)\n",
        "                return 100 * horz.pop()\n",
        "            if vert:\n",
        "                assert(len(vert) == 1)\n",
        "                print(f\"putting vert {vert} smudge at {i} {j} for\")\n",
        "                print(grid)\n",
        "                return vert.pop()\n",
        "    print(grid)\n",
        "    raise Exception()"
      ]
    },
    {
      "cell_type": "code",
      "execution_count": 447,
      "metadata": {},
      "outputs": [
        {
          "name": "stdout",
          "output_type": "stream",
          "text": [
            "p1 score 5\n",
            "putting horz {3} smudge at 0 0 for\n",
            "[['#' '.' '#' '#' '.' '.' '#' '#' '.']\n",
            " ['.' '.' '#' '.' '#' '#' '.' '#' '.']\n",
            " ['#' '#' '.' '.' '.' '.' '.' '.' '#']\n",
            " ['#' '#' '.' '.' '.' '.' '.' '.' '#']\n",
            " ['.' '.' '#' '.' '#' '#' '.' '#' '.']\n",
            " ['.' '.' '#' '#' '.' '.' '#' '#' '.']\n",
            " ['#' '.' '#' '.' '#' '#' '.' '#' '.']]\n",
            "newscore 300\n",
            "p1 score 400\n",
            "putting horz {1} smudge at 0 4 for\n",
            "[['#' '.' '.' '.' '#' '#' '.' '.' '#']\n",
            " ['#' '.' '.' '.' '.' '#' '.' '.' '#']\n",
            " ['.' '.' '#' '#' '.' '.' '#' '#' '#']\n",
            " ['#' '#' '#' '#' '#' '.' '#' '#' '.']\n",
            " ['#' '#' '#' '#' '#' '.' '#' '#' '.']\n",
            " ['.' '.' '#' '#' '.' '.' '#' '#' '#']\n",
            " ['#' '.' '.' '.' '.' '#' '.' '.' '#']]\n",
            "newscore 100\n",
            "400\n"
          ]
        }
      ],
      "source": [
        "res = 0\n",
        "\n",
        "for grid in grids:\n",
        "    newscore = p2_score(grid)\n",
        "    print(\"newscore\", newscore)\n",
        "    res += newscore\n",
        "\n",
        "print(res)\n",
        "assert(res == 400 or res == 35335)\n",
        "\n",
        "       "
      ]
    }
  ],
  "metadata": {
    "colab": {
      "authorship_tag": "ABX9TyOm395W/3CnLlVjsksb/bEH",
      "include_colab_link": true,
      "provenance": []
    },
    "kernelspec": {
      "display_name": "Python 3",
      "name": "python3"
    },
    "language_info": {
      "codemirror_mode": {
        "name": "ipython",
        "version": 3
      },
      "file_extension": ".py",
      "mimetype": "text/x-python",
      "name": "python",
      "nbconvert_exporter": "python",
      "pygments_lexer": "ipython3",
      "version": "3.10.13"
    }
  },
  "nbformat": 4,
  "nbformat_minor": 0
}
