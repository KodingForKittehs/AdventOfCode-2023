{
  "cells": [
    {
      "cell_type": "markdown",
      "metadata": {
        "id": "w8ceaZ_mk7lS"
      },
      "source": [
        "# [--- Day 10: Pipe Maze ---](https://adventofcode.com/2023/day/10)"
      ]
    },
    {
      "cell_type": "markdown",
      "metadata": {
        "id": "fvqtPafJvU7U"
      },
      "source": [
        "## Setup\n",
        "\n",
        "Use the `input` file if present, otherwise use the sample input."
      ]
    },
    {
      "cell_type": "code",
      "execution_count": 47,
      "metadata": {
        "id": "pG0fZk4xjQL8"
      },
      "outputs": [
        {
          "name": "stdout",
          "output_type": "stream",
          "text": [
            "5\n",
            "['7-F7-.', '.FJ|7.', 'SJLL7.', '|F--J.', 'LJ.LJ.', '......']\n"
          ]
        }
      ],
      "source": [
        "is_sample = False\n",
        "\n",
        "try:\n",
        "  input = open(\"input\", \"r\").read().splitlines()\n",
        "except FileNotFoundError:\n",
        "  input = \"\"\"7-F7-\n",
        ".FJ|7\n",
        "SJLL7\n",
        "|F--J\n",
        "LJ.LJ\"\"\"\n",
        "  input = input.split()\n",
        "  is_sample = True\n",
        "\n",
        "print(len(input))\n",
        "input = [line+\".\" for line in input]\n",
        "input.append(\".\" * len(input[0]))\n",
        "print(input)"
      ]
    },
    {
      "cell_type": "markdown",
      "metadata": {
        "id": "ZkJcxUGJvqa1"
      },
      "source": [
        "## Functions and Classes\n",
        "\n"
      ]
    },
    {
      "cell_type": "code",
      "execution_count": 48,
      "metadata": {},
      "outputs": [],
      "source": [
        "import igraph as ig\n",
        "import matplotlib.pyplot as plt\n",
        "\n",
        "def show_graph(graph):\n",
        "  fig, ax = plt.subplots(figsize=(7, 5))\n",
        "  ig.plot(\n",
        "      graph,\n",
        "      target=ax,\n",
        "      #      layout=\"circle\",  # print nodes in a circular layout\n",
        "      vertex_size=30,\n",
        "      vertex_frame_width=4.0,\n",
        "      vertex_frame_color=\"white\",\n",
        "      vertex_label=graph.vs[\"name\"],\n",
        "      vertex_label_size=7.0,\n",
        "  )\n",
        "  plt.show()"
      ]
    },
    {
      "cell_type": "code",
      "execution_count": 49,
      "metadata": {},
      "outputs": [],
      "source": [
        "def get_graph(input):\n",
        "  graph = ig.Graph()\n",
        "\n",
        "  for i in range(len(input) + 1):\n",
        "    for j in range(len(input[0]) + 1):\n",
        "      graph.add_vertex(f\"{(i, j)}\", x=j, y=i)\n",
        "\n",
        "  for i, line in enumerate(input):\n",
        "    for j, char in enumerate(line):\n",
        "      match char:\n",
        "        case \"S\":\n",
        "          start = (i, j)\n",
        "          match input[i][j+1]:\n",
        "            case \"-\" | \"J\" | \"7\":\n",
        "              graph.add_edge(f\"{(i, j)}\", f\"{((i), j+1)}\")\n",
        "          match input[i+1][j]:\n",
        "            case \"|\" | \"J\" | \"L\":\n",
        "              graph.add_edge(f\"{(i, j)}\", f\"{((i+1), j)}\")\n",
        "        case \"|\":\n",
        "          match input[i+1][j]:\n",
        "            case \"|\" | \"J\" | \"L\" | \"S\":\n",
        "              graph.add_edge(f\"{(i, j)}\", f\"{((i+1), j)}\")\n",
        "        case \"-\":\n",
        "          match input[i][j+1]:\n",
        "            case \"-\" | \"J\" | \"7\" | \"S\":\n",
        "              graph.add_edge(f\"{(i, j)}\", f\"{((i), j+1)}\")\n",
        "        case \"F\":\n",
        "          match input[i][j+1]:\n",
        "            case \"-\" | \"J\" | \"7\" | \"S\":\n",
        "              graph.add_edge(f\"{(i, j)}\", f\"{((i), j+1)}\")\n",
        "          match input[i+1][j]:\n",
        "            case \"|\" | \"J\" | \"L\" | \"S\":\n",
        "              graph.add_edge(f\"{(i, j)}\", f\"{((i+1), j)}\")\n",
        "        case \"L\":\n",
        "          match input[i][j+1]:\n",
        "            case \"-\" | \"J\" | \"7\" | \"S\":\n",
        "              graph.add_edge(f\"{(i, j)}\", f\"{((i), j+1)}\")\n",
        "        case \"7\":\n",
        "          match input[i+1][j]:\n",
        "            case \"|\" | \"J\" | \"L\" | \"S\":\n",
        "              graph.add_edge(f\"{(i, j)}\", f\"{((i+1), j)}\")\n",
        "  return graph, start\n",
        "\n",
        "graph, start = get_graph(input)\n",
        "#show_graph(graph)\n"
      ]
    },
    {
      "cell_type": "markdown",
      "metadata": {},
      "source": [
        "## Part 1"
      ]
    },
    {
      "cell_type": "code",
      "execution_count": 50,
      "metadata": {},
      "outputs": [
        {
          "name": "stdout",
          "output_type": "stream",
          "text": [
            "[igraph.Vertex(<igraph.Graph object at 0x7f90b933d140>, 15, {'x': 1, 'y': 2, 'name': '(2, 1)'}), igraph.Vertex(<igraph.Graph object at 0x7f90b933d140>, 21, {'x': 0, 'y': 3, 'name': '(3, 0)'})]\n",
            "8\n"
          ]
        }
      ],
      "source": [
        "startv = graph.vs.find(name=f\"{start}\")\n",
        "print(startv.neighbors())\n",
        "next = startv.neighbors()[0]\n",
        "found = set()\n",
        "points = [startv]\n",
        "\n",
        "while next:\n",
        "    #print(\"next\", next)\n",
        "    found.add(next.index)\n",
        "    points.append(next)\n",
        "    nn = next.neighbors()\n",
        "    if(len(nn) != 2):\n",
        "        print(len(nn), next.neighbors())\n",
        "        raise Exception(\"expected 2\")\n",
        "    if nn[0].index not in found:\n",
        "        next = nn[0]\n",
        "    elif nn[1].index not in found:\n",
        "        next = nn[1]\n",
        "    else:\n",
        "        next = None\n",
        "\n",
        "res = int(len(found)/2)\n",
        "print(res)\n",
        "#assert( res == 6812 or res == 8)\n"
      ]
    },
    {
      "cell_type": "markdown",
      "metadata": {},
      "source": [
        "## Part 2"
      ]
    },
    {
      "cell_type": "code",
      "execution_count": 51,
      "metadata": {},
      "outputs": [
        {
          "name": "stdout",
          "output_type": "stream",
          "text": [
            "[igraph.Vertex(<igraph.Graph object at 0x7f90b933d140>, 14, {'x': 0, 'y': 2, 'name': '(2, 0)'}), igraph.Vertex(<igraph.Graph object at 0x7f90b933d140>, 15, {'x': 1, 'y': 2, 'name': '(2, 1)'}), igraph.Vertex(<igraph.Graph object at 0x7f90b933d140>, 8, {'x': 1, 'y': 1, 'name': '(1, 1)'}), igraph.Vertex(<igraph.Graph object at 0x7f90b933d140>, 9, {'x': 2, 'y': 1, 'name': '(1, 2)'}), igraph.Vertex(<igraph.Graph object at 0x7f90b933d140>, 2, {'x': 2, 'y': 0, 'name': '(0, 2)'}), igraph.Vertex(<igraph.Graph object at 0x7f90b933d140>, 3, {'x': 3, 'y': 0, 'name': '(0, 3)'}), igraph.Vertex(<igraph.Graph object at 0x7f90b933d140>, 10, {'x': 3, 'y': 1, 'name': '(1, 3)'}), igraph.Vertex(<igraph.Graph object at 0x7f90b933d140>, 17, {'x': 3, 'y': 2, 'name': '(2, 3)'}), igraph.Vertex(<igraph.Graph object at 0x7f90b933d140>, 18, {'x': 4, 'y': 2, 'name': '(2, 4)'}), igraph.Vertex(<igraph.Graph object at 0x7f90b933d140>, 25, {'x': 4, 'y': 3, 'name': '(3, 4)'}), igraph.Vertex(<igraph.Graph object at 0x7f90b933d140>, 24, {'x': 3, 'y': 3, 'name': '(3, 3)'}), igraph.Vertex(<igraph.Graph object at 0x7f90b933d140>, 23, {'x': 2, 'y': 3, 'name': '(3, 2)'}), igraph.Vertex(<igraph.Graph object at 0x7f90b933d140>, 22, {'x': 1, 'y': 3, 'name': '(3, 1)'}), igraph.Vertex(<igraph.Graph object at 0x7f90b933d140>, 29, {'x': 1, 'y': 4, 'name': '(4, 1)'}), igraph.Vertex(<igraph.Graph object at 0x7f90b933d140>, 28, {'x': 0, 'y': 4, 'name': '(4, 0)'}), igraph.Vertex(<igraph.Graph object at 0x7f90b933d140>, 21, {'x': 0, 'y': 3, 'name': '(3, 0)'}), igraph.Vertex(<igraph.Graph object at 0x7f90b933d140>, 14, {'x': 0, 'y': 2, 'name': '(2, 0)'})]\n",
            "1\n"
          ]
        },
        {
          "ename": "AssertionError",
          "evalue": "",
          "output_type": "error",
          "traceback": [
            "\u001b[0;31m---------------------------------------------------------------------------\u001b[0m",
            "\u001b[0;31mAssertionError\u001b[0m                            Traceback (most recent call last)",
            "Cell \u001b[0;32mIn[51], line 24\u001b[0m\n\u001b[1;32m     19\u001b[0m     is_inside_count \u001b[38;5;241m+\u001b[39m\u001b[38;5;241m=\u001b[39m is_inside\n\u001b[1;32m     21\u001b[0m \u001b[38;5;28mprint\u001b[39m(is_inside_count)\n\u001b[0;32m---> 24\u001b[0m \u001b[38;5;28;01massert\u001b[39;00m(is_inside_count \u001b[38;5;241m==\u001b[39m \u001b[38;5;241m527\u001b[39m)\n",
            "\u001b[0;31mAssertionError\u001b[0m: "
          ]
        }
      ],
      "source": [
        "from shapely.geometry import Point, Polygon\n",
        "\n",
        "# Define the polygon vertices\n",
        "polygon_vertices = []\n",
        "for point in points:\n",
        "   polygon_vertices.append((point[\"x\"], point[\"y\"]))\n",
        "\n",
        "# Create a Shapely Polygon object\n",
        "polygon = Polygon(polygon_vertices)\n",
        "\n",
        "is_inside_count = 0\n",
        "for i in range(len(input) + 1):\n",
        "  for j in range(len(input[0]) + 1):\n",
        "    point_coordinates = (j, i)\n",
        "    point = Point(point_coordinates)\n",
        "    is_inside_count += point.within(polygon)\n",
        "\n",
        "print(is_inside_count)\n",
        "#assert(is_inside_count == 527)"
      ]
    }
  ],
  "metadata": {
    "colab": {
      "authorship_tag": "ABX9TyOm395W/3CnLlVjsksb/bEH",
      "include_colab_link": true,
      "provenance": []
    },
    "kernelspec": {
      "display_name": "Python 3",
      "name": "python3"
    },
    "language_info": {
      "codemirror_mode": {
        "name": "ipython",
        "version": 3
      },
      "file_extension": ".py",
      "mimetype": "text/x-python",
      "name": "python",
      "nbconvert_exporter": "python",
      "pygments_lexer": "ipython3",
      "version": "3.10.13"
    }
  },
  "nbformat": 4,
  "nbformat_minor": 0
}
