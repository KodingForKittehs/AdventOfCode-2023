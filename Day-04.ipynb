{
  "cells": [
    {
      "cell_type": "markdown",
      "metadata": {
        "id": "w8ceaZ_mk7lS"
      },
      "source": [
        "# [--- Day 4: Scratchcards ---](https://adventofcode.com/2023/day/4)\n",
        "\n",
        "* Themes: Brute force"
      ]
    },
    {
      "cell_type": "markdown",
      "metadata": {
        "id": "fvqtPafJvU7U"
      },
      "source": [
        "## Setup\n",
        "\n",
        "Use the `input` file if present, otherwise use the sample input."
      ]
    },
    {
      "cell_type": "code",
      "execution_count": null,
      "metadata": {
        "colab": {
          "base_uri": "https://localhost:8080/"
        },
        "id": "pG0fZk4xjQL8",
        "outputId": "42e29c55-7652-4a5e-f924-ec53c6f2e52f"
      },
      "outputs": [
        {
          "name": "stdout",
          "output_type": "stream",
          "text": [
            "['Card 1: 41 48 83 86 17 | 83 86  6 31 17  9 48 53',\n",
            " 'Card 2: 13 32 20 16 61 | 61 30 68 82 17 32 24 19',\n",
            " 'Card 3:  1 21 53 59 44 | 69 82 63 72 16 21 14  1',\n",
            " 'Card 4: 41 92 73 84 69 | 59 84 76 51 58  5 54 83',\n",
            " 'Card 5: 87 83 26 28 32 | 88 30 70 12 93 22 82 36',\n",
            " 'Card 6: 31 18 13 56 72 | 74 77 10 23 35 67 36 11']\n"
          ]
        }
      ],
      "source": [
        "from pprint import pprint\n",
        "import numpy as np\n",
        "from matplotlib import pyplot as plt\n",
        "from PIL import Image\n",
        "import requests\n",
        "\n",
        "verbose = False\n",
        "is_sample = False\n",
        "\n",
        "try:\n",
        "  input = [r.strip() for r in open(\"input2\", \"r\").readlines()]\n",
        "except FileNotFoundError:\n",
        "  input = \"\"\"Card 1: 41 48 83 86 17 | 83 86  6 31 17  9 48 53\n",
        "Card 2: 13 32 20 16 61 | 61 30 68 82 17 32 24 19\n",
        "Card 3:  1 21 53 59 44 | 69 82 63 72 16 21 14  1\n",
        "Card 4: 41 92 73 84 69 | 59 84 76 51 58  5 54 83\n",
        "Card 5: 87 83 26 28 32 | 88 30 70 12 93 22 82 36\n",
        "Card 6: 31 18 13 56 72 | 74 77 10 23 35 67 36 11\"\"\"\n",
        "  input = input.split(\"\\n\")\n",
        "  verbose = True\n",
        "  is_sample = True\n",
        "\n",
        "if verbose:\n",
        "  pprint(input)\n",
        "\n"
      ]
    },
    {
      "cell_type": "markdown",
      "metadata": {
        "id": "-PObzBLWyWo6"
      },
      "source": [
        "## Part 1 and 2\n"
      ]
    },
    {
      "cell_type": "code",
      "execution_count": null,
      "metadata": {
        "colab": {
          "base_uri": "https://localhost:8080/"
        },
        "id": "bg3Vvm9fzPfy",
        "outputId": "1d27a6c0-f960-4bff-eaa3-7dd40b217878"
      },
      "outputs": [
        {
          "name": "stdout",
          "output_type": "stream",
          "text": [
            "13\n",
            "30\n"
          ]
        }
      ],
      "source": [
        "total = 0\n",
        "cards = [1] * len(input)\n",
        "\n",
        "for i, line in enumerate(input):\n",
        "  score = 1\n",
        "  card_score = 0\n",
        "  num_wins = 0\n",
        "\n",
        "  numbers = line.split(\":\")[1]\n",
        "  win = numbers.split(\"|\")[0].split()\n",
        "  scratch = numbers.split(\"|\")[1].split()\n",
        "\n",
        "  win = [int(item) for item in win]\n",
        "  scratch = [int(item) for item in scratch]\n",
        "\n",
        "  for s in scratch:\n",
        "    if s in win:\n",
        "      card_score = score\n",
        "      score *=2\n",
        "      num_wins += 1\n",
        "\n",
        "  if num_wins:\n",
        "    for w in range(0, num_wins):\n",
        "      cards[i + 1 + w] += cards[i]\n",
        "  total += card_score\n",
        "\n",
        "print(total)\n",
        "print(sum(cards))"
      ]
    }
  ],
  "metadata": {
    "colab": {
      "authorship_tag": "ABX9TyMSfYhT078KfOQVUrYDVJqZ",
      "include_colab_link": true,
      "provenance": []
    },
    "kernelspec": {
      "display_name": "Python 3",
      "name": "python3"
    },
    "language_info": {
      "name": "python"
    }
  },
  "nbformat": 4,
  "nbformat_minor": 0
}
