{
  "nbformat": 4,
  "nbformat_minor": 0,
  "metadata": {
    "colab": {
      "provenance": [],
      "collapsed_sections": [
        "-PObzBLWyWo6"
      ],
      "authorship_tag": "ABX9TyPtBn/jxl4izKYub83V0rza",
      "include_colab_link": true
    },
    "kernelspec": {
      "name": "python3",
      "display_name": "Python 3"
    },
    "language_info": {
      "name": "python"
    }
  },
  "cells": [
    {
      "cell_type": "markdown",
      "metadata": {
        "id": "view-in-github",
        "colab_type": "text"
      },
      "source": [
        "<a href=\"https://colab.research.google.com/github/KodingForKittehs/AdventOfCode-2023/blob/main/Day5.ipynb\" target=\"_parent\"><img src=\"https://colab.research.google.com/assets/colab-badge.svg\" alt=\"Open In Colab\"/></a>"
      ]
    },
    {
      "cell_type": "markdown",
      "source": [
        "# [--- Day 5: If You Give A Seed A Fertilizer ---](https://adventofcode.com/2023/day/5)"
      ],
      "metadata": {
        "id": "w8ceaZ_mk7lS"
      }
    },
    {
      "cell_type": "markdown",
      "source": [
        "## Setup\n",
        "\n",
        "Use the `input` file if present, otherwise use the sample input."
      ],
      "metadata": {
        "id": "fvqtPafJvU7U"
      }
    },
    {
      "cell_type": "code",
      "source": [
        "from pprint import pprint\n",
        "import numpy as np\n",
        "from matplotlib import pyplot as plt\n",
        "\n",
        "verbose = True\n",
        "is_sample = False\n",
        "\n",
        "try:\n",
        "  input = open(\"input\", \"r\").read().splitlines()\n",
        "except FileNotFoundError:\n",
        "  input = \"\"\"seeds: 79 14 55 13\n",
        "\n",
        "seed-to-soil map:\n",
        "50 98 2\n",
        "52 50 48\n",
        "\n",
        "soil-to-fertilizer map:\n",
        "0 15 37\n",
        "37 52 2\n",
        "39 0 15\n",
        "\n",
        "fertilizer-to-water map:\n",
        "49 53 8\n",
        "0 11 42\n",
        "42 0 7\n",
        "57 7 4\n",
        "\n",
        "water-to-light map:\n",
        "88 18 7\n",
        "18 25 70\n",
        "\n",
        "light-to-temperature map:\n",
        "45 77 23\n",
        "81 45 19\n",
        "68 64 13\n",
        "\n",
        "temperature-to-humidity map:\n",
        "0 69 1\n",
        "1 0 69\n",
        "\n",
        "humidity-to-location map:\n",
        "60 56 37\n",
        "56 93 4\"\"\"\n",
        "  input = input.split(\"\\n\")\n",
        "  verbose = True\n",
        "  is_sample = True\n",
        "\n",
        "if verbose:\n",
        "  pprint(input)\n",
        "\n"
      ],
      "metadata": {
        "id": "pG0fZk4xjQL8",
        "colab": {
          "base_uri": "https://localhost:8080/"
        },
        "outputId": "3f16d60c-308a-44ce-f943-ea0f4576bafa"
      },
      "execution_count": 1,
      "outputs": [
        {
          "output_type": "stream",
          "name": "stdout",
          "text": [
            "['seeds: 79 14 55 13',\n",
            " '',\n",
            " 'seed-to-soil map:',\n",
            " '50 98 2',\n",
            " '52 50 48',\n",
            " '',\n",
            " 'soil-to-fertilizer map:',\n",
            " '0 15 37',\n",
            " '37 52 2',\n",
            " '39 0 15',\n",
            " '',\n",
            " 'fertilizer-to-water map:',\n",
            " '49 53 8',\n",
            " '0 11 42',\n",
            " '42 0 7',\n",
            " '57 7 4',\n",
            " '',\n",
            " 'water-to-light map:',\n",
            " '88 18 7',\n",
            " '18 25 70',\n",
            " '',\n",
            " 'light-to-temperature map:',\n",
            " '45 77 23',\n",
            " '81 45 19',\n",
            " '68 64 13',\n",
            " '',\n",
            " 'temperature-to-humidity map:',\n",
            " '0 69 1',\n",
            " '1 0 69',\n",
            " '',\n",
            " 'humidity-to-location map:',\n",
            " '60 56 37',\n",
            " '56 93 4']\n"
          ]
        }
      ]
    },
    {
      "cell_type": "markdown",
      "source": [
        "## Problem specific functions and classes\n",
        "\n"
      ],
      "metadata": {
        "id": "ZkJcxUGJvqa1"
      }
    },
    {
      "cell_type": "code",
      "source": [
        "def get_map(section):\n",
        "  \"\"\" Parse out the map details as a list of lists \"\"\"\n",
        "  res = []\n",
        "  collect = False\n",
        "  for line in input:\n",
        "    if line == section:\n",
        "      collect = True\n",
        "      continue\n",
        "    if line == \"\" and collect:\n",
        "      return res\n",
        "    if collect:\n",
        "      res.append([int(i) for i in line.split()])\n",
        "  return res\n",
        "\n",
        "seeds = [int(i) for i in input[0].split(\":\")[1].split()]\n",
        "print(seeds)\n",
        "\n",
        "maps = []\n",
        "maps.append(get_map(\"seed-to-soil map:\"))\n",
        "maps.append(get_map(\"soil-to-fertilizer map:\"))\n",
        "maps.append(get_map(\"fertilizer-to-water map:\"))\n",
        "maps.append(get_map(\"water-to-light map:\"))\n",
        "maps.append(get_map(\"light-to-temperature map:\"))\n",
        "maps.append(get_map(\"temperature-to-humidity map:\"))\n",
        "maps.append(get_map(\"humidity-to-location map:\"))\n",
        "\n",
        "pprint(maps)"
      ],
      "metadata": {
        "id": "KHVVMAyF4ntm",
        "colab": {
          "base_uri": "https://localhost:8080/"
        },
        "outputId": "0012a067-66b4-4f8c-b643-e3df2f5e3798"
      },
      "execution_count": 2,
      "outputs": [
        {
          "output_type": "stream",
          "name": "stdout",
          "text": [
            "[79, 14, 55, 13]\n",
            "[[[50, 98, 2], [52, 50, 48]],\n",
            " [[0, 15, 37], [37, 52, 2], [39, 0, 15]],\n",
            " [[49, 53, 8], [0, 11, 42], [42, 0, 7], [57, 7, 4]],\n",
            " [[88, 18, 7], [18, 25, 70]],\n",
            " [[45, 77, 23], [81, 45, 19], [68, 64, 13]],\n",
            " [[0, 69, 1], [1, 0, 69]],\n",
            " [[60, 56, 37], [56, 93, 4]]]\n"
          ]
        }
      ]
    },
    {
      "cell_type": "code",
      "source": [
        "def map_pos(map, position: int):\n",
        "  for m in map:\n",
        "    if m[1] <= position <= m[1] + m[2] - 1:\n",
        "      return m[0] + position - m[1]\n",
        "  return position\n",
        "\n",
        "assert(map_pos(maps[0], 98) == 50)\n",
        "assert(map_pos(maps[0], 99) == 51)\n",
        "assert(map_pos(maps[0], 100) == 100)"
      ],
      "metadata": {
        "id": "qeZNAg5LeWFC"
      },
      "execution_count": 3,
      "outputs": []
    },
    {
      "cell_type": "markdown",
      "source": [
        "## Part 1\n"
      ],
      "metadata": {
        "id": "-PObzBLWyWo6"
      }
    },
    {
      "cell_type": "code",
      "source": [
        "res = []\n",
        "for seed in seeds:\n",
        "  for map in maps:\n",
        "    seed = map_pos(map, seed)\n",
        "  res.append(seed)\n",
        "\n",
        "closest = min(res)\n",
        "\n",
        "if is_sample:\n",
        "  assert(closest == 35)"
      ],
      "metadata": {
        "id": "bg3Vvm9fzPfy"
      },
      "execution_count": 4,
      "outputs": []
    },
    {
      "cell_type": "markdown",
      "source": [
        "## Part 2"
      ],
      "metadata": {
        "id": "s_f4PY5AlngI"
      }
    },
    {
      "cell_type": "code",
      "source": [
        "def get_seed_intervals(seeds):\n",
        "  \"\"\" Converts original seed input to [x, y) intervals \"\"\"\n",
        "  seed_intervals = []\n",
        "  for i in range(0, len(seeds), 2):\n",
        "    seed_intervals.append([seeds[i], seeds[i] + seeds[i + 1]])\n",
        "  return seed_intervals\n",
        "\n",
        "assert(\n",
        "    get_seed_intervals([79, 14, 55, 13]) == [[79, 93], [55, 68]]\n",
        ")"
      ],
      "metadata": {
        "id": "oCru_3lN_SRw"
      },
      "execution_count": 5,
      "outputs": []
    },
    {
      "cell_type": "code",
      "source": [
        "def map_to_interval(m):\n",
        "  \"\"\" Converts input mapping to interval format \"\"\"\n",
        "  return [m[1], m[1] + m[2]], [m[0], m[0] + m[2]]\n",
        "\n",
        "map_to_interval([50, 98, 2])"
      ],
      "metadata": {
        "colab": {
          "base_uri": "https://localhost:8080/"
        },
        "id": "Puv45DzkCo4L",
        "outputId": "66f51381-26b3-4a3a-b424-e8c16bb900fb"
      },
      "execution_count": 6,
      "outputs": [
        {
          "output_type": "execute_result",
          "data": {
            "text/plain": [
              "([98, 100], [50, 52])"
            ]
          },
          "metadata": {},
          "execution_count": 6
        }
      ]
    },
    {
      "cell_type": "code",
      "source": [
        "def del_from_interval(interval, to_del):\n",
        "  \"\"\" Returns a tuple of 2 elements, first is a list of zero, one or 2\n",
        "  remaining intervals and the second being extracted interval \"\"\"\n",
        "\n",
        "  if (\n",
        "    to_del[1] <= interval[0] or\n",
        "    to_del[0] >= interval[1]\n",
        "  ):\n",
        "    return [interval], [] # Nothing deleted\n",
        "\n",
        "  if (\n",
        "    to_del[0] <= interval[0] and\n",
        "    to_del[1] >= interval[1]\n",
        "  ):\n",
        "    return [], interval # Entire interval deleted\n",
        "\n",
        "  if (\n",
        "    to_del[0] >= interval[0] and\n",
        "    to_del[1] <= interval[1]\n",
        "  ):\n",
        "    inres = []\n",
        "    if interval[0] != to_del[0]:\n",
        "      inres.append([interval[0], to_del[0]])\n",
        "    if to_del[1] != interval[1]:\n",
        "      inres.append([to_del[1], interval[1]])\n",
        "    return inres, to_del\n",
        "\n",
        "  if (\n",
        "    to_del[0] <= interval[0]\n",
        "  ):\n",
        "    return [[to_del[1], interval[1]]], [interval[0], to_del[1]]\n",
        "\n",
        "  return [[interval[0], to_del[0]]], [to_del[0], interval[1]]\n",
        "\n",
        "assert(del_from_interval([5, 7], [4, 5]) == ([[5, 7]], []))\n",
        "assert(del_from_interval([5, 7], [7, 8]) == ([[5, 7]], []))\n",
        "assert(del_from_interval([5, 7], [4, 6]) == ([[6, 7]], [5, 6]))\n",
        "assert(del_from_interval([5, 7], [6, 9]) == ([[5, 6]], [6, 7]))\n",
        "assert(del_from_interval([1, 9], [4, 7]) == ([[1, 4], [7, 9]], [4, 7]))"
      ],
      "metadata": {
        "id": "s9Lqm_l0FELx"
      },
      "execution_count": 7,
      "outputs": []
    },
    {
      "cell_type": "code",
      "source": [
        "\n",
        "\n",
        "def delete_from_seeds(intervals, m):\n",
        "  new_intervals = []\n",
        "  deleted = []\n",
        "  for interval in intervals:\n",
        "    delete_res = del_from_interval(interval, m)\n",
        "    new_intervals += delete_res[0]\n",
        "    if delete_res[1]:\n",
        "      deleted.append(delete_res[1])\n",
        "\n",
        "  return new_intervals, deleted\n",
        "\n",
        "print(delete_from_seeds([[5, 8], [8, 10]], [7, 9]))\n",
        "\n",
        "assert(\n",
        "  delete_from_seeds([[5,8]], [5, 6]) == ([[6, 8]], [[5, 6]])\n",
        ")\n",
        "assert(\n",
        "  delete_from_seeds([[5, 8], [8, 10]], [7, 9]) == ([[5, 7], [9, 10]], [[7, 8], [8, 9]])\n",
        ")"
      ],
      "metadata": {
        "colab": {
          "base_uri": "https://localhost:8080/"
        },
        "id": "Gr6qWRtCD5ID",
        "outputId": "fe6cad4e-13bd-47aa-861a-7abfe5d31b26"
      },
      "execution_count": 8,
      "outputs": [
        {
          "output_type": "stream",
          "name": "stdout",
          "text": [
            "([[5, 7], [9, 10]], [[7, 8], [8, 9]])\n"
          ]
        }
      ]
    },
    {
      "cell_type": "code",
      "source": [
        "seed_intervals = get_seed_intervals(seeds)\n",
        "print(\"seed_intervals\", seed_intervals)\n",
        "\n",
        "for map in maps:\n",
        "  to_move = []\n",
        "\n",
        "  for m in map:\n",
        "    from_to = map_to_interval(m)\n",
        "    move_dir = from_to[1][0] - from_to[0][0]\n",
        "    seed_intervals, deleted = delete_from_seeds(seed_intervals, from_to[0])\n",
        "    for d in deleted:\n",
        "      d[0] += move_dir\n",
        "      d[1] += move_dir\n",
        "      to_move.append(d)\n",
        "\n",
        "  for d in to_move:\n",
        "    seed_intervals.append(d)\n",
        "\n",
        "starting = []\n",
        "for seed in seed_intervals:\n",
        "  starting.append(seed[0])\n",
        "\n",
        "closest = min(starting)\n",
        "print(closest)\n",
        "\n",
        "if is_sample:\n",
        "  assert(closest == 46)\n",
        "\n"
      ],
      "metadata": {
        "id": "QGV9Xl4kluCQ",
        "colab": {
          "base_uri": "https://localhost:8080/"
        },
        "outputId": "515be2e8-6f2e-4131-f26f-cc5f497678d1"
      },
      "execution_count": 9,
      "outputs": [
        {
          "output_type": "stream",
          "name": "stdout",
          "text": [
            "seed_intervals [[79, 93], [55, 68]]\n",
            "46\n"
          ]
        }
      ]
    }
  ]
}