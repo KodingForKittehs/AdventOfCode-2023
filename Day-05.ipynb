{
  "cells": [
    {
      "cell_type": "markdown",
      "metadata": {
        "id": "w8ceaZ_mk7lS"
      },
      "source": [
        "# [--- Day 5: If You Give A Seed A Fertilizer ---](https://adventofcode.com/2023/day/5)\n",
        "\n",
        "* Themes: Intervals, functional, mapping"
      ]
    },
    {
      "cell_type": "markdown",
      "metadata": {
        "id": "fvqtPafJvU7U"
      },
      "source": [
        "## Setup\n",
        "\n",
        "Use the `input` file if present, otherwise use the sample input."
      ]
    },
    {
      "cell_type": "code",
      "execution_count": 1,
      "metadata": {
        "colab": {
          "base_uri": "https://localhost:8080/"
        },
        "id": "pG0fZk4xjQL8",
        "outputId": "3f16d60c-308a-44ce-f943-ea0f4576bafa"
      },
      "outputs": [
        {
          "name": "stdout",
          "output_type": "stream",
          "text": [
            "['seeds: 79 14 55 13',\n",
            " '',\n",
            " 'seed-to-soil map:',\n",
            " '50 98 2',\n",
            " '52 50 48',\n",
            " '',\n",
            " 'soil-to-fertilizer map:',\n",
            " '0 15 37',\n",
            " '37 52 2',\n",
            " '39 0 15',\n",
            " '',\n",
            " 'fertilizer-to-water map:',\n",
            " '49 53 8',\n",
            " '0 11 42',\n",
            " '42 0 7',\n",
            " '57 7 4',\n",
            " '',\n",
            " 'water-to-light map:',\n",
            " '88 18 7',\n",
            " '18 25 70',\n",
            " '',\n",
            " 'light-to-temperature map:',\n",
            " '45 77 23',\n",
            " '81 45 19',\n",
            " '68 64 13',\n",
            " '',\n",
            " 'temperature-to-humidity map:',\n",
            " '0 69 1',\n",
            " '1 0 69',\n",
            " '',\n",
            " 'humidity-to-location map:',\n",
            " '60 56 37',\n",
            " '56 93 4']\n"
          ]
        }
      ],
      "source": [
        "from pprint import pprint\n",
        "import numpy as np\n",
        "from matplotlib import pyplot as plt\n",
        "\n",
        "verbose = True\n",
        "is_sample = False\n",
        "\n",
        "try:\n",
        "  input = open(\"input\", \"r\").read().splitlines()\n",
        "except FileNotFoundError:\n",
        "  input = \"\"\"seeds: 79 14 55 13\n",
        "\n",
        "seed-to-soil map:\n",
        "50 98 2\n",
        "52 50 48\n",
        "\n",
        "soil-to-fertilizer map:\n",
        "0 15 37\n",
        "37 52 2\n",
        "39 0 15\n",
        "\n",
        "fertilizer-to-water map:\n",
        "49 53 8\n",
        "0 11 42\n",
        "42 0 7\n",
        "57 7 4\n",
        "\n",
        "water-to-light map:\n",
        "88 18 7\n",
        "18 25 70\n",
        "\n",
        "light-to-temperature map:\n",
        "45 77 23\n",
        "81 45 19\n",
        "68 64 13\n",
        "\n",
        "temperature-to-humidity map:\n",
        "0 69 1\n",
        "1 0 69\n",
        "\n",
        "humidity-to-location map:\n",
        "60 56 37\n",
        "56 93 4\"\"\"\n",
        "  input = input.split(\"\\n\")\n",
        "  verbose = True\n",
        "  is_sample = True\n",
        "\n",
        "if verbose:\n",
        "  pprint(input)\n",
        "\n"
      ]
    },
    {
      "cell_type": "markdown",
      "metadata": {
        "id": "ZkJcxUGJvqa1"
      },
      "source": [
        "## Problem specific functions and classes\n",
        "\n"
      ]
    },
    {
      "cell_type": "code",
      "execution_count": 2,
      "metadata": {
        "colab": {
          "base_uri": "https://localhost:8080/"
        },
        "id": "KHVVMAyF4ntm",
        "outputId": "0012a067-66b4-4f8c-b643-e3df2f5e3798"
      },
      "outputs": [
        {
          "name": "stdout",
          "output_type": "stream",
          "text": [
            "[79, 14, 55, 13]\n",
            "[[[50, 98, 2], [52, 50, 48]],\n",
            " [[0, 15, 37], [37, 52, 2], [39, 0, 15]],\n",
            " [[49, 53, 8], [0, 11, 42], [42, 0, 7], [57, 7, 4]],\n",
            " [[88, 18, 7], [18, 25, 70]],\n",
            " [[45, 77, 23], [81, 45, 19], [68, 64, 13]],\n",
            " [[0, 69, 1], [1, 0, 69]],\n",
            " [[60, 56, 37], [56, 93, 4]]]\n"
          ]
        }
      ],
      "source": [
        "def get_map(section):\n",
        "  \"\"\" Parse out the map details as a list of lists \"\"\"\n",
        "  res = []\n",
        "  collect = False\n",
        "  for line in input:\n",
        "    if line == section:\n",
        "      collect = True\n",
        "      continue\n",
        "    if line == \"\" and collect:\n",
        "      return res\n",
        "    if collect:\n",
        "      res.append([int(i) for i in line.split()])\n",
        "  return res\n",
        "\n",
        "seeds = [int(i) for i in input[0].split(\":\")[1].split()]\n",
        "print(seeds)\n",
        "\n",
        "maps = []\n",
        "maps.append(get_map(\"seed-to-soil map:\"))\n",
        "maps.append(get_map(\"soil-to-fertilizer map:\"))\n",
        "maps.append(get_map(\"fertilizer-to-water map:\"))\n",
        "maps.append(get_map(\"water-to-light map:\"))\n",
        "maps.append(get_map(\"light-to-temperature map:\"))\n",
        "maps.append(get_map(\"temperature-to-humidity map:\"))\n",
        "maps.append(get_map(\"humidity-to-location map:\"))\n",
        "\n",
        "pprint(maps)"
      ]
    },
    {
      "cell_type": "code",
      "execution_count": 3,
      "metadata": {
        "id": "qeZNAg5LeWFC"
      },
      "outputs": [],
      "source": [
        "def map_pos(map, position: int):\n",
        "  for m in map:\n",
        "    if m[1] <= position <= m[1] + m[2] - 1:\n",
        "      return m[0] + position - m[1]\n",
        "  return position\n",
        "\n",
        "assert(map_pos(maps[0], 98) == 50)\n",
        "assert(map_pos(maps[0], 99) == 51)\n",
        "assert(map_pos(maps[0], 100) == 100)"
      ]
    },
    {
      "cell_type": "markdown",
      "metadata": {
        "id": "-PObzBLWyWo6"
      },
      "source": [
        "## Part 1\n"
      ]
    },
    {
      "cell_type": "code",
      "execution_count": 4,
      "metadata": {
        "id": "bg3Vvm9fzPfy"
      },
      "outputs": [],
      "source": [
        "res = []\n",
        "for seed in seeds:\n",
        "  for map in maps:\n",
        "    seed = map_pos(map, seed)\n",
        "  res.append(seed)\n",
        "\n",
        "closest = min(res)\n",
        "\n",
        "if is_sample:\n",
        "  assert(closest == 35)"
      ]
    },
    {
      "cell_type": "markdown",
      "metadata": {
        "id": "s_f4PY5AlngI"
      },
      "source": [
        "## Part 2"
      ]
    },
    {
      "cell_type": "code",
      "execution_count": 5,
      "metadata": {
        "id": "oCru_3lN_SRw"
      },
      "outputs": [],
      "source": [
        "def get_seed_intervals(seeds):\n",
        "  \"\"\" Converts original seed input to [x, y) intervals \"\"\"\n",
        "  seed_intervals = []\n",
        "  for i in range(0, len(seeds), 2):\n",
        "    seed_intervals.append([seeds[i], seeds[i] + seeds[i + 1]])\n",
        "  return seed_intervals\n",
        "\n",
        "assert(\n",
        "    get_seed_intervals([79, 14, 55, 13]) == [[79, 93], [55, 68]]\n",
        ")"
      ]
    },
    {
      "cell_type": "code",
      "execution_count": 6,
      "metadata": {
        "colab": {
          "base_uri": "https://localhost:8080/"
        },
        "id": "Puv45DzkCo4L",
        "outputId": "66f51381-26b3-4a3a-b424-e8c16bb900fb"
      },
      "outputs": [
        {
          "data": {
            "text/plain": [
              "([98, 100], [50, 52])"
            ]
          },
          "execution_count": 6,
          "metadata": {},
          "output_type": "execute_result"
        }
      ],
      "source": [
        "def map_to_interval(m):\n",
        "  \"\"\" Converts input mapping to interval format \"\"\"\n",
        "  return [m[1], m[1] + m[2]], [m[0], m[0] + m[2]]\n",
        "\n",
        "map_to_interval([50, 98, 2])"
      ]
    },
    {
      "cell_type": "code",
      "execution_count": 7,
      "metadata": {
        "id": "s9Lqm_l0FELx"
      },
      "outputs": [],
      "source": [
        "def del_from_interval(interval, to_del):\n",
        "  \"\"\" Returns a tuple of 2 elements, first is a list of zero, one or 2\n",
        "  remaining intervals and the second being extracted interval \"\"\"\n",
        "\n",
        "  if (\n",
        "    to_del[1] <= interval[0] or\n",
        "    to_del[0] >= interval[1]\n",
        "  ):\n",
        "    return [interval], [] # Nothing deleted\n",
        "\n",
        "  if (\n",
        "    to_del[0] <= interval[0] and\n",
        "    to_del[1] >= interval[1]\n",
        "  ):\n",
        "    return [], interval # Entire interval deleted\n",
        "\n",
        "  if (\n",
        "    to_del[0] >= interval[0] and\n",
        "    to_del[1] <= interval[1]\n",
        "  ):\n",
        "    inres = []\n",
        "    if interval[0] != to_del[0]:\n",
        "      inres.append([interval[0], to_del[0]])\n",
        "    if to_del[1] != interval[1]:\n",
        "      inres.append([to_del[1], interval[1]])\n",
        "    return inres, to_del\n",
        "\n",
        "  if (\n",
        "    to_del[0] <= interval[0]\n",
        "  ):\n",
        "    return [[to_del[1], interval[1]]], [interval[0], to_del[1]]\n",
        "\n",
        "  return [[interval[0], to_del[0]]], [to_del[0], interval[1]]\n",
        "\n",
        "assert(del_from_interval([5, 7], [4, 5]) == ([[5, 7]], []))\n",
        "assert(del_from_interval([5, 7], [7, 8]) == ([[5, 7]], []))\n",
        "assert(del_from_interval([5, 7], [4, 6]) == ([[6, 7]], [5, 6]))\n",
        "assert(del_from_interval([5, 7], [6, 9]) == ([[5, 6]], [6, 7]))\n",
        "assert(del_from_interval([1, 9], [4, 7]) == ([[1, 4], [7, 9]], [4, 7]))"
      ]
    },
    {
      "cell_type": "code",
      "execution_count": 8,
      "metadata": {
        "colab": {
          "base_uri": "https://localhost:8080/"
        },
        "id": "Gr6qWRtCD5ID",
        "outputId": "fe6cad4e-13bd-47aa-861a-7abfe5d31b26"
      },
      "outputs": [
        {
          "name": "stdout",
          "output_type": "stream",
          "text": [
            "([[5, 7], [9, 10]], [[7, 8], [8, 9]])\n"
          ]
        }
      ],
      "source": [
        "\n",
        "\n",
        "def delete_from_seeds(intervals, m):\n",
        "  new_intervals = []\n",
        "  deleted = []\n",
        "  for interval in intervals:\n",
        "    delete_res = del_from_interval(interval, m)\n",
        "    new_intervals += delete_res[0]\n",
        "    if delete_res[1]:\n",
        "      deleted.append(delete_res[1])\n",
        "\n",
        "  return new_intervals, deleted\n",
        "\n",
        "print(delete_from_seeds([[5, 8], [8, 10]], [7, 9]))\n",
        "\n",
        "assert(\n",
        "  delete_from_seeds([[5,8]], [5, 6]) == ([[6, 8]], [[5, 6]])\n",
        ")\n",
        "assert(\n",
        "  delete_from_seeds([[5, 8], [8, 10]], [7, 9]) == ([[5, 7], [9, 10]], [[7, 8], [8, 9]])\n",
        ")"
      ]
    },
    {
      "cell_type": "code",
      "execution_count": 9,
      "metadata": {
        "colab": {
          "base_uri": "https://localhost:8080/"
        },
        "id": "QGV9Xl4kluCQ",
        "outputId": "515be2e8-6f2e-4131-f26f-cc5f497678d1"
      },
      "outputs": [
        {
          "name": "stdout",
          "output_type": "stream",
          "text": [
            "seed_intervals [[79, 93], [55, 68]]\n",
            "46\n"
          ]
        }
      ],
      "source": [
        "seed_intervals = get_seed_intervals(seeds)\n",
        "print(\"seed_intervals\", seed_intervals)\n",
        "\n",
        "for map in maps:\n",
        "  to_move = []\n",
        "\n",
        "  for m in map:\n",
        "    from_to = map_to_interval(m)\n",
        "    move_dir = from_to[1][0] - from_to[0][0]\n",
        "    seed_intervals, deleted = delete_from_seeds(seed_intervals, from_to[0])\n",
        "    for d in deleted:\n",
        "      d[0] += move_dir\n",
        "      d[1] += move_dir\n",
        "      to_move.append(d)\n",
        "\n",
        "  for d in to_move:\n",
        "    seed_intervals.append(d)\n",
        "\n",
        "starting = []\n",
        "for seed in seed_intervals:\n",
        "  starting.append(seed[0])\n",
        "\n",
        "closest = min(starting)\n",
        "print(closest)\n",
        "\n",
        "if is_sample:\n",
        "  assert(closest == 46)\n",
        "\n"
      ]
    }
  ],
  "metadata": {
    "colab": {
      "authorship_tag": "ABX9TyPtBn/jxl4izKYub83V0rza",
      "collapsed_sections": [
        "-PObzBLWyWo6"
      ],
      "include_colab_link": true,
      "provenance": []
    },
    "kernelspec": {
      "display_name": "Python 3",
      "name": "python3"
    },
    "language_info": {
      "name": "python"
    }
  },
  "nbformat": 4,
  "nbformat_minor": 0
}
