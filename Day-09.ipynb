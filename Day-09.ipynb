{
  "cells": [
    {
      "cell_type": "markdown",
      "metadata": {
        "colab_type": "text",
        "id": "view-in-github"
      },
      "source": [
        "<a href=\"https://colab.research.google.com/github/KodingForKittehs/AdventOfCode-2023/blob/main/Day9.ipynb\" target=\"_parent\"><img src=\"https://colab.research.google.com/assets/colab-badge.svg\" alt=\"Open In Colab\"/></a>"
      ]
    },
    {
      "cell_type": "markdown",
      "metadata": {
        "id": "w8ceaZ_mk7lS"
      },
      "source": [
        "# [--- Day 9: Mirage Maintenance ---](https://adventofcode.com/2023/day/9)\n",
        "* Recursion"
      ]
    },
    {
      "cell_type": "markdown",
      "metadata": {
        "id": "Viv22bdVWCBa"
      },
      "source": [
        "Useful Explanation\n",
        "\n",
        "https://www.youtube.com/watch?v=4AuV93LOPcE\n"
      ]
    },
    {
      "cell_type": "markdown",
      "metadata": {
        "id": "fvqtPafJvU7U"
      },
      "source": [
        "## Setup\n",
        "\n",
        "Use the `input` file if present, otherwise use the sample input."
      ]
    },
    {
      "cell_type": "code",
      "execution_count": 7,
      "metadata": {
        "id": "pG0fZk4xjQL8"
      },
      "outputs": [
        {
          "name": "stdout",
          "output_type": "stream",
          "text": [
            "[['0', '3', '6', '9', '12', '15'],\n",
            " ['1', '3', '6', '10', '15', '21'],\n",
            " ['10', '13', '16', '21', '30', '45']]\n"
          ]
        }
      ],
      "source": [
        "from pprint import pprint\n",
        "import numpy as np\n",
        "from matplotlib import pyplot as plt\n",
        "\n",
        "verbose = False\n",
        "is_sample = False\n",
        "\n",
        "try:\n",
        "  input = open(\"input\", \"r\").read().splitlines()\n",
        "except FileNotFoundError:\n",
        "  input = \"\"\"0 3 6 9 12 15\n",
        "1 3 6 10 15 21\n",
        "10 13 16 21 30 45\"\"\"\n",
        "  input = [line.split() for line in input.split(\"\\n\")]\n",
        "\n",
        "  verbose = True\n",
        "  is_sample = True\n",
        "\n",
        "if verbose:\n",
        "  pprint(input)"
      ]
    },
    {
      "cell_type": "markdown",
      "metadata": {
        "id": "ZkJcxUGJvqa1"
      },
      "source": [
        "## Functions and Classes\n",
        "\n"
      ]
    },
    {
      "cell_type": "code",
      "execution_count": 8,
      "metadata": {
        "id": "KHVVMAyF4ntm"
      },
      "outputs": [],
      "source": [
        "def predict_next(line, reversed=False):\n",
        "  last = line[-1:][0]\n",
        "  next_line = []\n",
        "  for i in range(len(line) - 1):\n",
        "    if reversed:\n",
        "      diff = line[i] - line[i + 1]\n",
        "    else:\n",
        "      diff = line[i+1] - line[i]\n",
        "    next_line.append(diff)\n",
        "  if all(item == 0 for item in next_line):\n",
        "    return last\n",
        "\n",
        "  if reversed:\n",
        "    return last - predict_next(next_line, reversed=reversed)\n",
        "  else:\n",
        "    return predict_next(next_line, reversed=reversed) + last\n",
        "\n",
        "assert(predict_next([0, 3, 6, 9, 12, 15]) == 18)\n",
        "assert(predict_next([1, 3, 6, 10, 15, 21]) == 28)\n",
        "assert(predict_next([10, 13, 16, 21, 30, 45]) == 68)\n",
        "mylist = [10, 13, 16, 21, 30, 45]\n",
        "backwards = list(reversed(mylist))\n",
        "assert(predict_next(backwards, reversed=True) == 5)"
      ]
    },
    {
      "cell_type": "markdown",
      "metadata": {
        "id": "-PObzBLWyWo6"
      },
      "source": [
        "## Part 1, 2\n"
      ]
    },
    {
      "cell_type": "code",
      "execution_count": 11,
      "metadata": {
        "colab": {
          "base_uri": "https://localhost:8080/"
        },
        "id": "bg3Vvm9fzPfy",
        "outputId": "c58b2d8f-64b3-4116-b103-8d40e5062b30"
      },
      "outputs": [
        {
          "name": "stdout",
          "output_type": "stream",
          "text": [
            "114\n",
            "2\n"
          ]
        }
      ],
      "source": [
        "p1 = 0\n",
        "p2 = 0\n",
        "\n",
        "for line in input:\n",
        "  line = [int(item) for item in line]\n",
        "  p1 += predict_next(line)\n",
        "  p2 += predict_next(list(reversed(line)), reversed=True)\n",
        "\n",
        "print(p1)\n",
        "print(p2)\n",
        "if is_sample:\n",
        "  assert(p1 == 114)\n"
      ]
    }
  ],
  "metadata": {
    "colab": {
      "authorship_tag": "ABX9TyOm395W/3CnLlVjsksb/bEH",
      "include_colab_link": true,
      "provenance": []
    },
    "kernelspec": {
      "display_name": "Python 3",
      "name": "python3"
    },
    "language_info": {
      "codemirror_mode": {
        "name": "ipython",
        "version": 3
      },
      "file_extension": ".py",
      "mimetype": "text/x-python",
      "name": "python",
      "nbconvert_exporter": "python",
      "pygments_lexer": "ipython3",
      "version": "3.10.13"
    }
  },
  "nbformat": 4,
  "nbformat_minor": 0
}
