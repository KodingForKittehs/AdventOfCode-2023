{
  "nbformat": 4,
  "nbformat_minor": 0,
  "metadata": {
    "colab": {
      "provenance": [],
      "authorship_tag": "ABX9TyMEV370zLoqcXRgT0/byCFL",
      "include_colab_link": true
    },
    "kernelspec": {
      "name": "python3",
      "display_name": "Python 3"
    },
    "language_info": {
      "name": "python"
    }
  },
  "cells": [
    {
      "cell_type": "markdown",
      "metadata": {
        "id": "view-in-github",
        "colab_type": "text"
      },
      "source": [
        "<a href=\"https://colab.research.google.com/github/KodingForKittehs/AdventOfCode-2023/blob/main/Day6.ipynb\" target=\"_parent\"><img src=\"https://colab.research.google.com/assets/colab-badge.svg\" alt=\"Open In Colab\"/></a>"
      ]
    },
    {
      "cell_type": "markdown",
      "source": [
        "# [--- Day 6: Wait For It ---](https://adventofcode.com/2023/day/6)"
      ],
      "metadata": {
        "id": "w8ceaZ_mk7lS"
      }
    },
    {
      "cell_type": "markdown",
      "source": [
        "## Setup\n",
        "\n",
        "Use the `input` file if present, otherwise use the sample input."
      ],
      "metadata": {
        "id": "fvqtPafJvU7U"
      }
    },
    {
      "cell_type": "code",
      "source": [
        "from pprint import pprint\n",
        "import numpy as np\n",
        "from matplotlib import pyplot as plt\n",
        "\n",
        "verbose = True\n",
        "is_sample = False\n",
        "\n",
        "try:\n",
        "  input = open(\"input\", \"r\").read().splitlines()\n",
        "except FileNotFoundError:\n",
        "  input = \"\"\"Time:      7  15   30\n",
        "Distance:  9  40  200\"\"\"\n",
        "  input = input.split(\"\\n\")\n",
        "  verbose = True\n",
        "  is_sample = True\n",
        "\n",
        "if verbose:\n",
        "  pprint(input)\n",
        "\n",
        "times = [int(i) for i in input[0].split(\":\")[1].split()]\n",
        "distances = [int(i) for i in input[1].split(\":\")[1].split()]\n",
        "\n",
        "print(times, distances)\n"
      ],
      "metadata": {
        "id": "pG0fZk4xjQL8",
        "colab": {
          "base_uri": "https://localhost:8080/"
        },
        "outputId": "59f3c469-60a3-4e95-9452-7be148fc467a"
      },
      "execution_count": 1,
      "outputs": [
        {
          "output_type": "stream",
          "name": "stdout",
          "text": [
            "['Time:      7  15   30', 'Distance:  9  40  200']\n",
            "[7, 15, 30] [9, 40, 200]\n"
          ]
        }
      ]
    },
    {
      "cell_type": "markdown",
      "source": [
        "## Part 1\n"
      ],
      "metadata": {
        "id": "-PObzBLWyWo6"
      }
    },
    {
      "cell_type": "code",
      "source": [
        "wins = []\n",
        "\n",
        "for (time, dist) in zip(times, distances):\n",
        "  print(time, dist)\n",
        "\n",
        "  win = 0\n",
        "  for i in range(time):\n",
        "    speed = i\n",
        "    my_dist = (time - i) * speed\n",
        "    if my_dist > dist:\n",
        "      win += 1\n",
        "  wins.append(win)\n",
        "\n",
        "res = 1\n",
        "for win in wins:\n",
        "  res *= win\n",
        "\n",
        "print(res)\n",
        "\n",
        "if is_sample:\n",
        "  assert(res == 288)"
      ],
      "metadata": {
        "id": "bg3Vvm9fzPfy",
        "colab": {
          "base_uri": "https://localhost:8080/"
        },
        "outputId": "0126f5b9-6646-4c67-f1cd-fb925f06710e"
      },
      "execution_count": 3,
      "outputs": [
        {
          "output_type": "stream",
          "name": "stdout",
          "text": [
            "7 9\n",
            "15 40\n",
            "30 200\n",
            "288\n"
          ]
        }
      ]
    },
    {
      "cell_type": "markdown",
      "source": [
        "## Part 2"
      ],
      "metadata": {
        "id": "s_f4PY5AlngI"
      }
    },
    {
      "cell_type": "code",
      "source": [
        "print(input)\n",
        "\n",
        "\n",
        "time = int(input[0].split(\":\")[1].replace(\" \", \"\"))\n",
        "dist = int(input[1].split(\":\")[1].replace(\" \", \"\"))\n",
        "\n",
        "print(time, dist)\n",
        "\n",
        "win = 0\n",
        "for i in range(time):\n",
        "  speed = i\n",
        "  my_dist = (time - i) * speed\n",
        "  if my_dist > dist:\n",
        "    win += 1\n",
        "\n",
        "print(win)\n",
        "\n",
        "if is_sample:\n",
        "  assert(win == 71503)\n"
      ],
      "metadata": {
        "id": "QGV9Xl4kluCQ",
        "colab": {
          "base_uri": "https://localhost:8080/"
        },
        "outputId": "fb9380cd-13f6-47e8-bc10-07f389b7bda5"
      },
      "execution_count": 4,
      "outputs": [
        {
          "output_type": "stream",
          "name": "stdout",
          "text": [
            "['Time:      7  15   30', 'Distance:  9  40  200']\n",
            "71530 940200\n",
            "71503\n"
          ]
        }
      ]
    }
  ]
}