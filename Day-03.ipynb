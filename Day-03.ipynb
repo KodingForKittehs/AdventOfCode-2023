{
  "cells": [
    {
      "cell_type": "markdown",
      "metadata": {
        "id": "w8ceaZ_mk7lS"
      },
      "source": [
        "# [--- Day 3: Gear Ratios ---](https://adventofcode.com/2023/day/3)\n",
        "\n",
        "* Themes: 2D Grids"
      ]
    },
    {
      "cell_type": "markdown",
      "metadata": {
        "id": "fvqtPafJvU7U"
      },
      "source": [
        "## Setup\n",
        "\n",
        "Use the `input` file if present, otherwise use the sample input."
      ]
    },
    {
      "cell_type": "code",
      "execution_count": 1,
      "metadata": {
        "colab": {
          "base_uri": "https://localhost:8080/"
        },
        "id": "pG0fZk4xjQL8",
        "outputId": "99b9d79c-a1e9-4d3d-ea85-39112e4f0331"
      },
      "outputs": [
        {
          "name": "stdout",
          "output_type": "stream",
          "text": [
            "['467..114..',\n",
            " '...*......',\n",
            " '..35..633.',\n",
            " '......#...',\n",
            " '617*......',\n",
            " '.....+.58.',\n",
            " '..592.....',\n",
            " '......755.',\n",
            " '...$.*....',\n",
            " '.664.598..']\n"
          ]
        }
      ],
      "source": [
        "from pprint import pprint\n",
        "import numpy as np\n",
        "from matplotlib import pyplot as plt\n",
        "from PIL import Image\n",
        "import requests\n",
        "\n",
        "verbose = False\n",
        "is_sample = False\n",
        "\n",
        "try:\n",
        "  input = [r.strip() for r in open(\"input\", \"r\").readlines()]\n",
        "except FileNotFoundError:\n",
        "  input = \"\"\"467..114..\n",
        "...*......\n",
        "..35..633.\n",
        "......#...\n",
        "617*......\n",
        ".....+.58.\n",
        "..592.....\n",
        "......755.\n",
        "...$.*....\n",
        ".664.598..\"\"\"\n",
        "  input = input.split(\"\\n\")\n",
        "  verbose = True\n",
        "  is_sample = True\n",
        "\n",
        "if verbose:\n",
        "  pprint(input)\n",
        "\n"
      ]
    },
    {
      "cell_type": "markdown",
      "metadata": {
        "id": "ZkJcxUGJvqa1"
      },
      "source": [
        "## Approach and useful bits\n",
        "\n",
        "The approach I took was to collect all the numbers in the grid into a list that can be used later to query if symbols are near them or not.\n",
        "\n",
        "Class to represent a number and the location of its first character in the grid."
      ]
    },
    {
      "cell_type": "code",
      "execution_count": 2,
      "metadata": {
        "id": "iYeLcelew8mz"
      },
      "outputs": [],
      "source": [
        "class Number():\n",
        "  def __init__(self, text, i, j):\n",
        "    self.text = text\n",
        "    self.i = i\n",
        "    self.j = j\n",
        "\n",
        "  def __repr__(self):\n",
        "    return f\"({self.text} {self.i} {self.j})\""
      ]
    },
    {
      "cell_type": "code",
      "execution_count": 3,
      "metadata": {
        "colab": {
          "base_uri": "https://localhost:8080/"
        },
        "id": "lJgDxXMIJHOc",
        "outputId": "96f52c26-e405-46c9-872e-4edad1f647e3"
      },
      "outputs": [
        {
          "name": "stdout",
          "output_type": "stream",
          "text": [
            "[['5', 3], ['5', 6], ['23', 9]]\n"
          ]
        }
      ],
      "source": [
        "def get_numbers(line):\n",
        "  \"\"\" Return a list of numbers found on a line with its starting index \"\"\"\n",
        "  num_on = False\n",
        "  numbers = []\n",
        "  curr_num = [\"\", 0]\n",
        "  for i, c in enumerate(line):\n",
        "    if c.isdigit():\n",
        "      if num_on:\n",
        "        curr_num[0] += c\n",
        "      else:\n",
        "        # found a new number\n",
        "        curr_num[0] += c\n",
        "        curr_num[1] = i\n",
        "        num_on = True\n",
        "    else:\n",
        "      if num_on:\n",
        "        num_on = False\n",
        "        numbers.append(curr_num)\n",
        "        curr_num = [\"\", 0]\n",
        "  if curr_num[0] != \"\":\n",
        "    numbers.append(curr_num)\n",
        "  return numbers\n",
        "\n",
        "# Test cases\n",
        "print(get_numbers(\"..*5..5..23\"))\n",
        "\n",
        "assert(\n",
        "  get_numbers(\"..*5..5..23\") == [['5', 3], ['5', 6], ['23', 9]]\n",
        ")\n"
      ]
    },
    {
      "cell_type": "markdown",
      "metadata": {
        "id": "-xccMcsmxO0C"
      },
      "source": [
        "Fetch all the numbers from the grid and store them in a global `number_list` so they can be used in the solution."
      ]
    },
    {
      "cell_type": "code",
      "execution_count": 4,
      "metadata": {
        "colab": {
          "base_uri": "https://localhost:8080/"
        },
        "id": "13ztC6RQdZv-",
        "outputId": "d4c3df4b-2240-4d77-ec74-de028658ce4e"
      },
      "outputs": [
        {
          "name": "stdout",
          "output_type": "stream",
          "text": [
            "[(467 0 0), (114 0 5), (35 2 2), (633 2 6), (617 4 0), (58 5 7), (592 6 2), (755 7 6), (664 9 1), (598 9 5)]\n"
          ]
        }
      ],
      "source": [
        "number_list = []\n",
        "for i, line in enumerate(input):\n",
        "  for num in get_numbers(line):\n",
        "    number_list.append(Number(num[0], i, num[1]))\n",
        "if verbose:\n",
        "  print(number_list)"
      ]
    },
    {
      "cell_type": "code",
      "execution_count": 5,
      "metadata": {
        "id": "auTudE2bSOUV"
      },
      "outputs": [],
      "source": [
        "def next_to_symbol(input, i, j):\n",
        "  \"\"\" Returns `True` if (i, j) is next to a symbol \"\"\"\n",
        "  for id in range(i-1, i+2):\n",
        "    for jd in range(j-1, j+2):\n",
        "      if id == i and jd == j:\n",
        "        continue\n",
        "      if id >= 0 and id < len(input) and jd >= 0 and jd < len(input[0]):\n",
        "        if input[id][jd] != '.' and not input[id][jd].isdigit():\n",
        "          return True\n",
        "  return False\n",
        "\n",
        "def number_next_to_symbol(input, number):\n",
        "  \"\"\" Returns `True` if number is next to a symbol \"\"\"\n",
        "  for j in range(number.j, number.j + len(number.text)):\n",
        "    if next_to_symbol(input, number.i, j):\n",
        "      return True\n",
        "  return False\n",
        "\n",
        "test_input = [\n",
        "  ['#','.','.','.'],\n",
        "  ['.','.','.','.'],\n",
        "  ['.','.','.','#'],\n",
        "]\n",
        "\n",
        "assert(next_to_symbol(test_input, 1, 1) is True)\n",
        "assert(next_to_symbol(test_input, 0, 2) is False)\n",
        "assert(next_to_symbol(test_input, 1, 2) is True)\n"
      ]
    },
    {
      "cell_type": "code",
      "execution_count": 6,
      "metadata": {
        "id": "qCAYoYxXeilP"
      },
      "outputs": [],
      "source": [
        "def get_neighboring_numbers(i, j, num_list):\n",
        "  \"\"\" Returns a list of all numbers from `num_list` next to the point (i, j) \"\"\"\n",
        "  res = []\n",
        "  for num in num_list:\n",
        "    if (\n",
        "        i >= num.i - 1\n",
        "        and i <= num.i + 1\n",
        "        and j >= num.j - 1\n",
        "        and j <= num.j + len(num.text)\n",
        "    ):\n",
        "      if verbose:\n",
        "        print(f\"Found a number: {i} {j} {num}\")\n",
        "      res.append(num)\n",
        "  return res"
      ]
    },
    {
      "cell_type": "code",
      "execution_count": 7,
      "metadata": {
        "id": "R-x9-hMlenCX"
      },
      "outputs": [],
      "source": [
        "def gear_ratio(nums):\n",
        "  \"\"\" Return the gear ratio of a set of gears \"\"\"\n",
        "  res = 1\n",
        "  for num in nums:\n",
        "    res *= int(num.text)\n",
        "  return res"
      ]
    },
    {
      "cell_type": "markdown",
      "metadata": {
        "id": "-PObzBLWyWo6"
      },
      "source": [
        "## Part 1\n"
      ]
    },
    {
      "cell_type": "code",
      "execution_count": 8,
      "metadata": {
        "colab": {
          "base_uri": "https://localhost:8080/"
        },
        "id": "bg3Vvm9fzPfy",
        "outputId": "97a644df-ea74-45d6-f67f-ed6bc5c96873"
      },
      "outputs": [
        {
          "name": "stdout",
          "output_type": "stream",
          "text": [
            "4361\n"
          ]
        }
      ],
      "source": [
        "total = 0\n",
        "\n",
        "for number in number_list:\n",
        "  if number_next_to_symbol(input, number):\n",
        "    total += int(number.text)\n",
        "\n",
        "print(total)\n",
        "\n",
        "if is_sample:\n",
        "  assert(total == 4361)\n",
        "else:\n",
        "  assert(total == 549908)"
      ]
    },
    {
      "cell_type": "markdown",
      "metadata": {
        "id": "4yF8prx10wii"
      },
      "source": [
        "## Part 2\n",
        "* Search for all \"*\" characters\n",
        "* Fetch numbers around it\n",
        "* If there's 2 numbers, get the gear ratio and add it to running total"
      ]
    },
    {
      "cell_type": "code",
      "execution_count": 9,
      "metadata": {
        "colab": {
          "base_uri": "https://localhost:8080/"
        },
        "id": "dCpOuJcdVRCw",
        "outputId": "d076a1fe-da82-46d2-bd4e-2ed11231e9e2"
      },
      "outputs": [
        {
          "name": "stdout",
          "output_type": "stream",
          "text": [
            "Found a number: 1 3 (467 0 0)\n",
            "Found a number: 1 3 (35 2 2)\n",
            "Found a number: 4 3 (617 4 0)\n",
            "Found a number: 8 5 (755 7 6)\n",
            "Found a number: 8 5 (598 9 5)\n",
            "467835\n"
          ]
        }
      ],
      "source": [
        "total = 0\n",
        "\n",
        "for i, line in enumerate(input):\n",
        "  for j, c in enumerate(line):\n",
        "    if c == \"*\":\n",
        "      neighboring_nums = get_neighboring_numbers(i, j, number_list)\n",
        "      if len(neighboring_nums) == 2:\n",
        "        total += gear_ratio(neighboring_nums)\n",
        "print(total)\n",
        "\n",
        "if is_sample:\n",
        "  assert(total == 467835)\n",
        "else:\n",
        "  assert(total == 81166799)"
      ]
    }
  ],
  "metadata": {
    "colab": {
      "authorship_tag": "ABX9TyNr/6R4nysFBTrRuknUaNCq",
      "include_colab_link": true,
      "provenance": []
    },
    "kernelspec": {
      "display_name": "Python 3",
      "name": "python3"
    },
    "language_info": {
      "name": "python"
    }
  },
  "nbformat": 4,
  "nbformat_minor": 0
}
