{
  "nbformat": 4,
  "nbformat_minor": 0,
  "metadata": {
    "colab": {
      "provenance": [],
      "authorship_tag": "ABX9TyOXY3epqVL9cmyY+4w8UOdV",
      "include_colab_link": true
    },
    "kernelspec": {
      "name": "python3",
      "display_name": "Python 3"
    },
    "language_info": {
      "name": "python"
    }
  },
  "cells": [
    {
      "cell_type": "markdown",
      "metadata": {
        "id": "view-in-github",
        "colab_type": "text"
      },
      "source": [
        "<a href=\"https://colab.research.google.com/github/KodingForKittehs/AdventOfCode-2023/blob/main/Day1.ipynb\" target=\"_parent\"><img src=\"https://colab.research.google.com/assets/colab-badge.svg\" alt=\"Open In Colab\"/></a>"
      ]
    },
    {
      "cell_type": "markdown",
      "source": [
        "# [--- Day 1: Trebuchet?! ---](https://adventofcode.com/2023/day/1)\n",
        "\n",
        "Input setup"
      ],
      "metadata": {
        "id": "w8ceaZ_mk7lS"
      }
    },
    {
      "cell_type": "code",
      "source": [
        "from pprint import pprint\n",
        "\n",
        "try:\n",
        "  input = open(\"input\", \"r\").readlines()\n",
        "except FileNotFoundError:\n",
        "  input = \"\"\"1abc2\n",
        "pqr3stu8vwx\n",
        "a1b2c3d4e5f\n",
        "treb7uchet\"\"\"\n",
        "  input = input.split(\"\\n\")\n",
        "print(input)\n"
      ],
      "metadata": {
        "id": "pG0fZk4xjQL8",
        "colab": {
          "base_uri": "https://localhost:8080/"
        },
        "outputId": "e91d9f9b-9a12-46d5-ce50-1eac752e1b86"
      },
      "execution_count": null,
      "outputs": [
        {
          "output_type": "stream",
          "name": "stdout",
          "text": [
            "['1abc2\\n', 'pqr3stu8vwx\\n', 'a1b2c3d4e5f\\n', 'treb7uchet']\n"
          ]
        }
      ]
    },
    {
      "cell_type": "markdown",
      "source": [
        "## Part 1\n",
        "\n",
        "Solution using regex to find all the numbers in a string and fetch the first and last from the resulting `nums`"
      ],
      "metadata": {
        "id": "-PObzBLWyWo6"
      }
    },
    {
      "cell_type": "code",
      "source": [
        "import re\n",
        "\n",
        "total = 0\n",
        "for line in input:\n",
        "  nums = re.findall('[0-9]', line)\n",
        "  sum = int(nums[0] + nums[-1])\n",
        "  print(f\"{line} - {nums} - {sum}\")\n",
        "  total += sum\n",
        "print(total)"
      ],
      "metadata": {
        "colab": {
          "base_uri": "https://localhost:8080/"
        },
        "id": "qAhUAU4wxjcF",
        "outputId": "ca6a9a1d-790c-4dd3-bb4c-f7b75cf4cb3b"
      },
      "execution_count": null,
      "outputs": [
        {
          "output_type": "stream",
          "name": "stdout",
          "text": [
            "1abc2\n",
            " - ['1', '2'] - 12\n",
            "pqr3stu8vwx\n",
            " - ['3', '8'] - 38\n",
            "a1b2c3d4e5f\n",
            " - ['1', '2', '3', '4', '5'] - 15\n",
            "treb7uchet - ['7'] - 77\n",
            "142\n"
          ]
        }
      ]
    },
    {
      "cell_type": "markdown",
      "source": [
        "## Part 2\n",
        "\n",
        "The problem is easy to understand, but easy to miss overlapping cases, such as `oneight`."
      ],
      "metadata": {
        "id": "4yF8prx10wii"
      }
    },
    {
      "cell_type": "code",
      "source": [
        "try:\n",
        "  input = open(\"input\", \"r\").readlines()\n",
        "except FileNotFoundError:\n",
        "  input = \"\"\"two1nine\n",
        "eightwothree\n",
        "abcone2threexyz\n",
        "xtwone3four\n",
        "4nineeightseven2\n",
        "zoneight234\n",
        "7pqrstsixteen\"\"\"\n",
        "  input = input.split(\"\\n\")\n",
        "pprint(input)"
      ],
      "metadata": {
        "colab": {
          "base_uri": "https://localhost:8080/"
        },
        "id": "BU3fsIlP10TA",
        "outputId": "e8a14ae8-33d0-4e69-a032-9fa8a63d8e95"
      },
      "execution_count": null,
      "outputs": [
        {
          "output_type": "stream",
          "name": "stdout",
          "text": [
            "['1abc2\\n', 'pqr3stu8vwx\\n', 'a1b2c3d4e5f\\n', 'treb7uchet']\n"
          ]
        }
      ]
    },
    {
      "cell_type": "markdown",
      "source": [
        "Setup some mapping of text -> numbers to be used in the concat phase."
      ],
      "metadata": {
        "id": "LXJosKy_18II"
      }
    },
    {
      "cell_type": "code",
      "source": [
        "textnums = [\"one\", \"two\", \"three\", \"four\",\n",
        "            \"five\", \"six\", \"seven\", \"eight\", \"nine\"]\n",
        "mapping = {\n",
        "    text: str(i + 1) for (i, text) in enumerate(textnums)}\n",
        "for i in range(1, 10):\n",
        "  mapping[str(i)] = str(i)\n",
        "\n",
        "pprint(mapping)\n",
        "\n"
      ],
      "metadata": {
        "colab": {
          "base_uri": "https://localhost:8080/"
        },
        "id": "qPdWZp1Ux-EW",
        "outputId": "7f831f9d-cb2c-4cc2-9f31-ae9d69c84034"
      },
      "execution_count": null,
      "outputs": [
        {
          "output_type": "stream",
          "name": "stdout",
          "text": [
            "{'1': '1',\n",
            " '2': '2',\n",
            " '3': '3',\n",
            " '4': '4',\n",
            " '5': '5',\n",
            " '6': '6',\n",
            " '7': '7',\n",
            " '8': '8',\n",
            " '9': '9',\n",
            " 'eight': '8',\n",
            " 'five': '5',\n",
            " 'four': '4',\n",
            " 'nine': '9',\n",
            " 'one': '1',\n",
            " 'seven': '7',\n",
            " 'six': '6',\n",
            " 'three': '3',\n",
            " 'two': '2'}\n"
          ]
        }
      ]
    },
    {
      "cell_type": "markdown",
      "source": [
        "Nice eh."
      ],
      "metadata": {
        "id": "g45RD849KS4_"
      }
    },
    {
      "cell_type": "markdown",
      "source": [
        "Ugly loop mindlessly using `startswith`, probably some better way to do this with regex, but it works and is simple enough."
      ],
      "metadata": {
        "id": "hVj8VOmL3X62"
      }
    },
    {
      "cell_type": "code",
      "source": [
        "total = 0\n",
        "for line in input:\n",
        "  nums = []\n",
        "  for i in range(0, len(line)):\n",
        "    subline = line[i:]\n",
        "    for key in mapping.keys():\n",
        "      if subline.startswith(key):\n",
        "        nums.append(mapping[key])\n",
        "  sum = int(nums[0] + nums[-1])\n",
        "  total += sum\n",
        "print(total)"
      ],
      "metadata": {
        "colab": {
          "base_uri": "https://localhost:8080/"
        },
        "id": "3k3b_4X31uMB",
        "outputId": "b697fdb1-034a-479c-ab87-9243150b7bb2"
      },
      "execution_count": null,
      "outputs": [
        {
          "output_type": "stream",
          "name": "stdout",
          "text": [
            "142\n"
          ]
        }
      ]
    },
    {
      "cell_type": "markdown",
      "source": [
        "Questions:\n",
        "- Can regex yank out `one` and `eight` from the text `oneight`?\n",
        "\n"
      ],
      "metadata": {
        "id": "bork7PbMy718"
      }
    },
    {
      "cell_type": "markdown",
      "source": [
        "Things Learned\n",
        "- Use the samples, debugging a large input file is nasty."
      ],
      "metadata": {
        "id": "msgcrUJ19tYa"
      }
    }
  ]
}