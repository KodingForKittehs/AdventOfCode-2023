{
  "nbformat": 4,
  "nbformat_minor": 0,
  "metadata": {
    "colab": {
      "provenance": [],
      "authorship_tag": "ABX9TyNhW75td6I0VQEvOfTvcVHf",
      "include_colab_link": true
    },
    "kernelspec": {
      "name": "python3",
      "display_name": "Python 3"
    },
    "language_info": {
      "name": "python"
    }
  },
  "cells": [
    {
      "cell_type": "markdown",
      "metadata": {
        "id": "view-in-github",
        "colab_type": "text"
      },
      "source": [
        "<a href=\"https://colab.research.google.com/github/KodingForKittehs/AdventOfCode-2023/blob/main/Day7.ipynb\" target=\"_parent\"><img src=\"https://colab.research.google.com/assets/colab-badge.svg\" alt=\"Open In Colab\"/></a>"
      ]
    },
    {
      "cell_type": "markdown",
      "source": [
        "# [--- Day 7: Camel Cards ---](https://adventofcode.com/2023/day/7)"
      ],
      "metadata": {
        "id": "w8ceaZ_mk7lS"
      }
    },
    {
      "cell_type": "markdown",
      "source": [
        "## Setup\n",
        "\n",
        "Use the `input` file if present, otherwise use the sample input."
      ],
      "metadata": {
        "id": "fvqtPafJvU7U"
      }
    },
    {
      "cell_type": "code",
      "source": [
        "from pprint import pprint\n",
        "import numpy as np\n",
        "from matplotlib import pyplot as plt\n",
        "\n",
        "verbose = False\n",
        "is_sample = False\n",
        "\n",
        "try:\n",
        "  input = open(\"input\", \"r\").read().splitlines()\n",
        "except FileNotFoundError:\n",
        "  input = \"\"\"32T3K 765\n",
        "T55J5 684\n",
        "KK677 28\n",
        "KTJJT 220\n",
        "QQQJA 483\"\"\"\n",
        "  input = input.split(\"\\n\")\n",
        "  verbose = True\n",
        "  is_sample = True\n",
        "\n",
        "if verbose:\n",
        "  pprint(input)\n",
        "\n",
        "\n"
      ],
      "metadata": {
        "id": "pG0fZk4xjQL8",
        "colab": {
          "base_uri": "https://localhost:8080/"
        },
        "outputId": "bc5b75d0-883d-433b-add6-4730e6ae2c5d"
      },
      "execution_count": 5,
      "outputs": [
        {
          "output_type": "stream",
          "name": "stdout",
          "text": [
            "['32T3K 765', 'T55J5 684', 'KK677 28', 'KTJJT 220', 'QQQJA 483']\n"
          ]
        }
      ]
    },
    {
      "cell_type": "markdown",
      "source": [
        "## Functions and classes\n",
        "\n"
      ],
      "metadata": {
        "id": "ZkJcxUGJvqa1"
      }
    },
    {
      "cell_type": "code",
      "source": [
        "from dataclasses import dataclass\n",
        "\n",
        "card_priority = \"A,K,Q,J,T,9,8,7,6,5,4,3,2\".split(\",\")\n",
        "\n",
        "@dataclass\n",
        "class Hand():\n",
        "  joker = False\n",
        "  hand: list[str]\n",
        "  bid: int\n",
        "\n",
        "  def __lt__(self, other):\n",
        "    if self.type() == other.type():\n",
        "      for i in range(5):\n",
        "        if self.hand[i] != other.hand[i]:\n",
        "          if card_priority.index(self.hand[i]) < card_priority.index(other.hand[i]):\n",
        "            return True\n",
        "          return False\n",
        "      raise Exception(\"hands are the same\")\n",
        "    return self.type() < other.type()\n",
        "\n",
        "  def type(self):\n",
        "    \"\"\" 0 for five of a kind, 1 for four of a kind etc \"\"\"\n",
        "    best_rank = 6\n",
        "    hands_to_test = [self.hand]\n",
        "\n",
        "    if self.joker and 'J' in self.hand:\n",
        "      for card in card_priority:\n",
        "        hands_to_test.append(self.hand.replace('J', card))\n",
        "\n",
        "    for hand in hands_to_test:\n",
        "      card_counts = {card_priority[i] : 0 for i in range(len(card_priority))}\n",
        "      for card in hand:\n",
        "        card_counts[card] += 1\n",
        "\n",
        "      values = list(card_counts.values())\n",
        "      values = sorted(values, reverse=True)\n",
        "\n",
        "      match values[0], values[1]:\n",
        "        case 5, _:\n",
        "          rank = 0  # 5 of kind\n",
        "        case 4, _:\n",
        "          rank = 1  # 4 of kind\n",
        "        case 3, 2:\n",
        "          rank = 2  # full house\n",
        "        case 3, _:\n",
        "          rank = 3  # 3 of kind\n",
        "        case 2, 2:\n",
        "          rank = 4  # 2 pair\n",
        "        case 2, _:\n",
        "          rank = 5  # 1 pair\n",
        "        case _, _:\n",
        "          rank = 6\n",
        "      best_rank = min(best_rank, rank)\n",
        "    return best_rank\n",
        "\n",
        "assert(Hand(\"AAAAA\", 0).type() == 0)\n",
        "assert(Hand(\"AAKAA\", 0).type() == 1)\n",
        "assert(Hand(\"AKKAA\", 0).type() == 2)\n",
        "assert(Hand(\"AKQAA\", 0).type() == 3)\n",
        "assert(Hand(\"QKQAA\", 0).type() == 4)\n",
        "assert(Hand(\"QK5AA\", 0).type() == 5)\n",
        "assert(Hand(\"AAAAA\", 0) < Hand(\"AAKAA\", 0))\n",
        "Hand.joker = True\n",
        "assert(Hand(\"QQQQJ\", 0).type() == 0)\n",
        "Hand.joker = False"
      ],
      "metadata": {
        "id": "KHVVMAyF4ntm"
      },
      "execution_count": 6,
      "outputs": []
    },
    {
      "cell_type": "markdown",
      "source": [
        "## Part 1\n"
      ],
      "metadata": {
        "id": "-PObzBLWyWo6"
      }
    },
    {
      "cell_type": "code",
      "source": [
        "hands = []\n",
        "for line in input:\n",
        "  hand, bid = line.split()\n",
        "  hands.append(Hand(hand, int(bid)))\n",
        "\n",
        "sorted_hands = sorted(hands, reverse=True)\n",
        "\n",
        "res = 0\n",
        "for i in range(len(sorted_hands)):\n",
        "  res += sorted_hands[i].bid * (i + 1)\n",
        "\n",
        "print(res)\n",
        "if is_sample:\n",
        "  assert(res == 6440)"
      ],
      "metadata": {
        "id": "bg3Vvm9fzPfy",
        "colab": {
          "base_uri": "https://localhost:8080/"
        },
        "outputId": "df94ff5d-241d-4458-992f-4150d4611492"
      },
      "execution_count": 7,
      "outputs": [
        {
          "output_type": "stream",
          "name": "stdout",
          "text": [
            "6440\n"
          ]
        }
      ]
    },
    {
      "cell_type": "markdown",
      "source": [
        "## Part 2"
      ],
      "metadata": {
        "id": "s_f4PY5AlngI"
      }
    },
    {
      "cell_type": "code",
      "source": [
        "card_priority = \"A,K,Q,T,9,8,7,6,5,4,3,2,J\".split(\",\")\n",
        "Hand.joker = True\n",
        "\n",
        "sorted_hands = sorted(hands, reverse=True)\n",
        "\n",
        "res = 0\n",
        "for i in range(len(sorted_hands)):\n",
        "  res += sorted_hands[i].bid * (i + 1)\n",
        "\n",
        "print(res)\n",
        "if is_sample:\n",
        "  assert(res == 5905)\n"
      ],
      "metadata": {
        "id": "QGV9Xl4kluCQ",
        "colab": {
          "base_uri": "https://localhost:8080/"
        },
        "outputId": "562649f4-4182-4178-9794-bbacb882f326"
      },
      "execution_count": 8,
      "outputs": [
        {
          "output_type": "stream",
          "name": "stdout",
          "text": [
            "5905\n"
          ]
        }
      ]
    }
  ]
}