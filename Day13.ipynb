{
  "cells": [
    {
      "cell_type": "markdown",
      "metadata": {
        "id": "w8ceaZ_mk7lS"
      },
      "source": [
        "# [--- Day 13: ??? ---](https://adventofcode.com/2023/day/13)\n"
      ]
    },
    {
      "cell_type": "markdown",
      "metadata": {
        "id": "fvqtPafJvU7U"
      },
      "source": [
        "## Setup\n",
        "\n",
        "Use the `input` file if present, otherwise use the sample input."
      ]
    },
    {
      "cell_type": "code",
      "execution_count": 20,
      "metadata": {
        "id": "pG0fZk4xjQL8"
      },
      "outputs": [
        {
          "name": "stdout",
          "output_type": "stream",
          "text": [
            "[array([['#', '.', '#', '#', '.', '.', '#', '#', '.'],\n",
            "       ['.', '.', '#', '.', '#', '#', '.', '#', '.'],\n",
            "       ['#', '#', '.', '.', '.', '.', '.', '.', '#'],\n",
            "       ['#', '#', '.', '.', '.', '.', '.', '.', '#'],\n",
            "       ['.', '.', '#', '.', '#', '#', '.', '#', '.'],\n",
            "       ['.', '.', '#', '#', '.', '.', '#', '#', '.'],\n",
            "       ['#', '.', '#', '.', '#', '#', '.', '#', '.']], dtype='<U1'), array([['#', '.', '.', '.', '#', '#', '.', '.', '#'],\n",
            "       ['#', '.', '.', '.', '.', '#', '.', '.', '#'],\n",
            "       ['.', '.', '#', '#', '.', '.', '#', '#', '#'],\n",
            "       ['#', '#', '#', '#', '#', '.', '#', '#', '.'],\n",
            "       ['#', '#', '#', '#', '#', '.', '#', '#', '.'],\n",
            "       ['.', '.', '#', '#', '.', '.', '#', '#', '#'],\n",
            "       ['#', '.', '.', '.', '.', '#', '.', '.', '#']], dtype='<U1')]\n"
          ]
        }
      ],
      "source": [
        "import numpy as np\n",
        "is_sample = False\n",
        "\n",
        "try:\n",
        "  input = open(\"input2\", \"r\").read().splitlines()\n",
        "except FileNotFoundError:\n",
        "  input = \"\"\"#.##..##.\n",
        "..#.##.#.\n",
        "##......#\n",
        "##......#\n",
        "..#.##.#.\n",
        "..##..##.\n",
        "#.#.##.#.\n",
        "\n",
        "#...##..#\n",
        "#....#..#\n",
        "..##..###\n",
        "#####.##.\n",
        "#####.##.\n",
        "..##..###\n",
        "#....#..#\"\"\"\n",
        "  input = input.split(\"\\n\")\n",
        "  is_sample = True\n",
        "\n",
        "grids = []\n",
        "grid = []\n",
        "for line in input:\n",
        "  #print(line)\n",
        "  if line == \"\":\n",
        "    nin = [[c for c in cl] for cl in grid]\n",
        "    nin = np.array(nin)\n",
        "    grids.append(np.array(nin))\n",
        "    grid = []\n",
        "  else:\n",
        "    grid.append(line)\n",
        "nin = [[c for c in cl] for cl in grid]\n",
        "nin = np.array(nin)\n",
        "grids.append(np.array(nin))\n",
        "print(grids)\n"
      ]
    },
    {
      "cell_type": "markdown",
      "metadata": {
        "id": "ZkJcxUGJvqa1"
      },
      "source": [
        "## Functions and Classes\n",
        "\n"
      ]
    },
    {
      "cell_type": "markdown",
      "metadata": {},
      "source": [
        "## Part 1"
      ]
    },
    {
      "cell_type": "code",
      "execution_count": 13,
      "metadata": {},
      "outputs": [
        {
          "name": "stdout",
          "output_type": "stream",
          "text": [
            "0\n"
          ]
        },
        {
          "ename": "AssertionError",
          "evalue": "",
          "output_type": "error",
          "traceback": [
            "\u001b[0;31m---------------------------------------------------------------------------\u001b[0m",
            "\u001b[0;31mAssertionError\u001b[0m                            Traceback (most recent call last)",
            "Cell \u001b[0;32mIn[13], line 5\u001b[0m\n\u001b[1;32m      1\u001b[0m res \u001b[38;5;241m=\u001b[39m \u001b[38;5;241m0\u001b[39m\n\u001b[1;32m      4\u001b[0m \u001b[38;5;28mprint\u001b[39m(res)\n\u001b[0;32m----> 5\u001b[0m \u001b[38;5;28;01massert\u001b[39;00m(res \u001b[38;5;241m==\u001b[39m \u001b[38;5;241m21\u001b[39m)\n",
            "\u001b[0;31mAssertionError\u001b[0m: "
          ]
        }
      ],
      "source": [
        "res = 0\n",
        "\n",
        "\n",
        "print(res)\n",
        "assert(res == 21)"
      ]
    },
    {
      "cell_type": "markdown",
      "metadata": {},
      "source": [
        "## Part 2"
      ]
    },
    {
      "cell_type": "code",
      "execution_count": null,
      "metadata": {},
      "outputs": [
        {
          "data": {
            "text/plain": [
              "2"
            ]
          },
          "execution_count": 115,
          "metadata": {},
          "output_type": "execute_result"
        }
      ],
      "source": []
    },
    {
      "cell_type": "code",
      "execution_count": null,
      "metadata": {},
      "outputs": [
        {
          "name": "stdout",
          "output_type": "stream",
          "text": [
            "['???.### 1,1,3', '.??..??...?##. 1,1,3', '?#?#?#?#?#?#?#? 1,3,1,6', '????.#...#... 4,1,1', '????.######..#####. 1,6,5', '?###???????? 3,2,1']\n",
            "525152\n"
          ]
        }
      ],
      "source": [
        "sum = 0\n",
        "print(input)\n",
        "\n",
        "\n",
        "assert(sum == 4546215031609 or sum == 525152)\n"
      ]
    }
  ],
  "metadata": {
    "colab": {
      "authorship_tag": "ABX9TyOm395W/3CnLlVjsksb/bEH",
      "include_colab_link": true,
      "provenance": []
    },
    "kernelspec": {
      "display_name": "Python 3",
      "name": "python3"
    },
    "language_info": {
      "codemirror_mode": {
        "name": "ipython",
        "version": 3
      },
      "file_extension": ".py",
      "mimetype": "text/x-python",
      "name": "python",
      "nbconvert_exporter": "python",
      "pygments_lexer": "ipython3",
      "version": "3.10.13"
    }
  },
  "nbformat": 4,
  "nbformat_minor": 0
}
