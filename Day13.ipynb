{
  "cells": [
    {
      "cell_type": "markdown",
      "metadata": {
        "id": "w8ceaZ_mk7lS"
      },
      "source": [
        "# [--- Day 13: ??? ---](https://adventofcode.com/2023/day/13)\n"
      ]
    },
    {
      "cell_type": "markdown",
      "metadata": {
        "id": "fvqtPafJvU7U"
      },
      "source": [
        "## Setup\n",
        "\n",
        "Use the `input` file if present, otherwise use the sample input."
      ]
    },
    {
      "cell_type": "code",
      "execution_count": 37,
      "metadata": {
        "id": "pG0fZk4xjQL8"
      },
      "outputs": [
        {
          "name": "stderr",
          "output_type": "stream",
          "text": [
            "<>:42: SyntaxWarning: list indices must be integers or slices, not str; perhaps you missed a comma?\n",
            "<>:42: SyntaxWarning: list indices must be integers or slices, not str; perhaps you missed a comma?\n",
            "/tmp/ipykernel_38814/3494158631.py:42: SyntaxWarning: list indices must be integers or slices, not str; perhaps you missed a comma?\n",
            "  [['.' '#' '.' '.' '#' '.' '.']\n",
            "/tmp/ipykernel_38814/3494158631.py:42: SyntaxWarning: list indices must be integers or slices, not str; perhaps you missed a comma?\n",
            "  [['.' '#' '.' '.' '#' '.' '.']\n",
            "/tmp/ipykernel_38814/3494158631.py:42: SyntaxWarning: list indices must be integers or slices, not str; perhaps you missed a comma?\n",
            "  [['.' '#' '.' '.' '#' '.' '.']\n",
            "/tmp/ipykernel_38814/3494158631.py:42: SyntaxWarning: list indices must be integers or slices, not str; perhaps you missed a comma?\n",
            "  [['.' '#' '.' '.' '#' '.' '.']\n",
            "/tmp/ipykernel_38814/3494158631.py:42: SyntaxWarning: list indices must be integers or slices, not str; perhaps you missed a comma?\n",
            "  [['.' '#' '.' '.' '#' '.' '.']\n",
            "/tmp/ipykernel_38814/3494158631.py:42: SyntaxWarning: list indices must be integers or slices, not str; perhaps you missed a comma?\n",
            "  [['.' '#' '.' '.' '#' '.' '.']\n",
            "/tmp/ipykernel_38814/3494158631.py:42: SyntaxWarning: list indices must be integers or slices, not str; perhaps you missed a comma?\n",
            "  [['.' '#' '.' '.' '#' '.' '.']\n",
            "/tmp/ipykernel_38814/3494158631.py:42: SyntaxWarning: list indices must be integers or slices, not str; perhaps you missed a comma?\n",
            "  [['.' '#' '.' '.' '#' '.' '.']\n",
            "/tmp/ipykernel_38814/3494158631.py:42: SyntaxWarning: list indices must be integers or slices, not str; perhaps you missed a comma?\n",
            "  [['.' '#' '.' '.' '#' '.' '.']\n",
            "/tmp/ipykernel_38814/3494158631.py:42: SyntaxWarning: list indices must be integers or slices, not str; perhaps you missed a comma?\n",
            "  [['.' '#' '.' '.' '#' '.' '.']\n",
            "/tmp/ipykernel_38814/3494158631.py:42: SyntaxWarning: list indices must be integers or slices, not str; perhaps you missed a comma?\n",
            "  [['.' '#' '.' '.' '#' '.' '.']\n",
            "/tmp/ipykernel_38814/3494158631.py:42: SyntaxWarning: list indices must be integers or slices, not str; perhaps you missed a comma?\n",
            "  [['.' '#' '.' '.' '#' '.' '.']\n",
            "/tmp/ipykernel_38814/3494158631.py:42: SyntaxWarning: list indices must be integers or slices, not str; perhaps you missed a comma?\n",
            "  [['.' '#' '.' '.' '#' '.' '.']\n",
            "/tmp/ipykernel_38814/3494158631.py:42: SyntaxWarning: list indices must be integers or slices, not str; perhaps you missed a comma?\n",
            "  [['.' '#' '.' '.' '#' '.' '.']\n",
            "/tmp/ipykernel_38814/3494158631.py:42: SyntaxWarning: list indices must be integers or slices, not str; perhaps you missed a comma?\n",
            "  [['.' '#' '.' '.' '#' '.' '.']\n",
            "/tmp/ipykernel_38814/3494158631.py:42: SyntaxWarning: list indices must be integers or slices, not str; perhaps you missed a comma?\n",
            "  [['.' '#' '.' '.' '#' '.' '.']\n"
          ]
        },
        {
          "ename": "TypeError",
          "evalue": "list indices must be integers or slices, not str",
          "output_type": "error",
          "traceback": [
            "\u001b[0;31m---------------------------------------------------------------------------\u001b[0m",
            "\u001b[0;31mTypeError\u001b[0m                                 Traceback (most recent call last)",
            "Cell \u001b[0;32mIn[37], line 42\u001b[0m\n\u001b[1;32m     38\u001b[0m nin \u001b[38;5;241m=\u001b[39m np\u001b[38;5;241m.\u001b[39marray(nin)\n\u001b[1;32m     39\u001b[0m grids\u001b[38;5;241m.\u001b[39mappend(np\u001b[38;5;241m.\u001b[39marray(nin))\n\u001b[1;32m     41\u001b[0m grids\u001b[38;5;241m.\u001b[39mappend(\n\u001b[0;32m---> 42\u001b[0m    [\u001b[43m[\u001b[49m\u001b[38;5;124;43m'\u001b[39;49m\u001b[38;5;124;43m.\u001b[39;49m\u001b[38;5;124;43m'\u001b[39;49m\u001b[43m \u001b[49m\u001b[38;5;124;43m'\u001b[39;49m\u001b[38;5;124;43m#\u001b[39;49m\u001b[38;5;124;43m'\u001b[39;49m\u001b[43m \u001b[49m\u001b[38;5;124;43m'\u001b[39;49m\u001b[38;5;124;43m.\u001b[39;49m\u001b[38;5;124;43m'\u001b[39;49m\u001b[43m \u001b[49m\u001b[38;5;124;43m'\u001b[39;49m\u001b[38;5;124;43m.\u001b[39;49m\u001b[38;5;124;43m'\u001b[39;49m\u001b[43m \u001b[49m\u001b[38;5;124;43m'\u001b[39;49m\u001b[38;5;124;43m#\u001b[39;49m\u001b[38;5;124;43m'\u001b[39;49m\u001b[43m \u001b[49m\u001b[38;5;124;43m'\u001b[39;49m\u001b[38;5;124;43m.\u001b[39;49m\u001b[38;5;124;43m'\u001b[39;49m\u001b[43m \u001b[49m\u001b[38;5;124;43m'\u001b[39;49m\u001b[38;5;124;43m.\u001b[39;49m\u001b[38;5;124;43m'\u001b[39;49m\u001b[43m]\u001b[49m\n\u001b[1;32m     43\u001b[0m \u001b[43m \u001b[49m\u001b[43m[\u001b[49m\u001b[38;5;124;43m'\u001b[39;49m\u001b[38;5;124;43m.\u001b[39;49m\u001b[38;5;124;43m'\u001b[39;49m\u001b[43m \u001b[49m\u001b[38;5;124;43m'\u001b[39;49m\u001b[38;5;124;43m#\u001b[39;49m\u001b[38;5;124;43m'\u001b[39;49m\u001b[43m \u001b[49m\u001b[38;5;124;43m'\u001b[39;49m\u001b[38;5;124;43m#\u001b[39;49m\u001b[38;5;124;43m'\u001b[39;49m\u001b[43m \u001b[49m\u001b[38;5;124;43m'\u001b[39;49m\u001b[38;5;124;43m.\u001b[39;49m\u001b[38;5;124;43m'\u001b[39;49m\u001b[43m \u001b[49m\u001b[38;5;124;43m'\u001b[39;49m\u001b[38;5;124;43m#\u001b[39;49m\u001b[38;5;124;43m'\u001b[39;49m\u001b[43m \u001b[49m\u001b[38;5;124;43m'\u001b[39;49m\u001b[38;5;124;43m#\u001b[39;49m\u001b[38;5;124;43m'\u001b[39;49m\u001b[43m \u001b[49m\u001b[38;5;124;43m'\u001b[39;49m\u001b[38;5;124;43m#\u001b[39;49m\u001b[38;5;124;43m'\u001b[39;49m\u001b[43m]\u001b[49m\n\u001b[1;32m     44\u001b[0m  [\u001b[38;5;124m'\u001b[39m\u001b[38;5;124m.\u001b[39m\u001b[38;5;124m'\u001b[39m \u001b[38;5;124m'\u001b[39m\u001b[38;5;124m.\u001b[39m\u001b[38;5;124m'\u001b[39m \u001b[38;5;124m'\u001b[39m\u001b[38;5;124m#\u001b[39m\u001b[38;5;124m'\u001b[39m \u001b[38;5;124m'\u001b[39m\u001b[38;5;124m#\u001b[39m\u001b[38;5;124m'\u001b[39m \u001b[38;5;124m'\u001b[39m\u001b[38;5;124m#\u001b[39m\u001b[38;5;124m'\u001b[39m \u001b[38;5;124m'\u001b[39m\u001b[38;5;124m#\u001b[39m\u001b[38;5;124m'\u001b[39m \u001b[38;5;124m'\u001b[39m\u001b[38;5;124m.\u001b[39m\u001b[38;5;124m'\u001b[39m]\n\u001b[1;32m     45\u001b[0m  [\u001b[38;5;124m'\u001b[39m\u001b[38;5;124m#\u001b[39m\u001b[38;5;124m'\u001b[39m \u001b[38;5;124m'\u001b[39m\u001b[38;5;124m#\u001b[39m\u001b[38;5;124m'\u001b[39m \u001b[38;5;124m'\u001b[39m\u001b[38;5;124m.\u001b[39m\u001b[38;5;124m'\u001b[39m \u001b[38;5;124m'\u001b[39m\u001b[38;5;124m#\u001b[39m\u001b[38;5;124m'\u001b[39m \u001b[38;5;124m'\u001b[39m\u001b[38;5;124m#\u001b[39m\u001b[38;5;124m'\u001b[39m \u001b[38;5;124m'\u001b[39m\u001b[38;5;124m.\u001b[39m\u001b[38;5;124m'\u001b[39m \u001b[38;5;124m'\u001b[39m\u001b[38;5;124m#\u001b[39m\u001b[38;5;124m'\u001b[39m]\n\u001b[1;32m     46\u001b[0m  [\u001b[38;5;124m'\u001b[39m\u001b[38;5;124m#\u001b[39m\u001b[38;5;124m'\u001b[39m \u001b[38;5;124m'\u001b[39m\u001b[38;5;124m.\u001b[39m\u001b[38;5;124m'\u001b[39m \u001b[38;5;124m'\u001b[39m\u001b[38;5;124m#\u001b[39m\u001b[38;5;124m'\u001b[39m \u001b[38;5;124m'\u001b[39m\u001b[38;5;124m#\u001b[39m\u001b[38;5;124m'\u001b[39m \u001b[38;5;124m'\u001b[39m\u001b[38;5;124m#\u001b[39m\u001b[38;5;124m'\u001b[39m \u001b[38;5;124m'\u001b[39m\u001b[38;5;124m#\u001b[39m\u001b[38;5;124m'\u001b[39m \u001b[38;5;124m'\u001b[39m\u001b[38;5;124m.\u001b[39m\u001b[38;5;124m'\u001b[39m]\n\u001b[1;32m     47\u001b[0m  [\u001b[38;5;124m'\u001b[39m\u001b[38;5;124m#\u001b[39m\u001b[38;5;124m'\u001b[39m \u001b[38;5;124m'\u001b[39m\u001b[38;5;124m.\u001b[39m\u001b[38;5;124m'\u001b[39m \u001b[38;5;124m'\u001b[39m\u001b[38;5;124m#\u001b[39m\u001b[38;5;124m'\u001b[39m \u001b[38;5;124m'\u001b[39m\u001b[38;5;124m.\u001b[39m\u001b[38;5;124m'\u001b[39m \u001b[38;5;124m'\u001b[39m\u001b[38;5;124m#\u001b[39m\u001b[38;5;124m'\u001b[39m \u001b[38;5;124m'\u001b[39m\u001b[38;5;124m#\u001b[39m\u001b[38;5;124m'\u001b[39m \u001b[38;5;124m'\u001b[39m\u001b[38;5;124m.\u001b[39m\u001b[38;5;124m'\u001b[39m]\n\u001b[1;32m     48\u001b[0m  [\u001b[38;5;124m'\u001b[39m\u001b[38;5;124m#\u001b[39m\u001b[38;5;124m'\u001b[39m \u001b[38;5;124m'\u001b[39m\u001b[38;5;124m#\u001b[39m\u001b[38;5;124m'\u001b[39m \u001b[38;5;124m'\u001b[39m\u001b[38;5;124m.\u001b[39m\u001b[38;5;124m'\u001b[39m \u001b[38;5;124m'\u001b[39m\u001b[38;5;124m#\u001b[39m\u001b[38;5;124m'\u001b[39m \u001b[38;5;124m'\u001b[39m\u001b[38;5;124m#\u001b[39m\u001b[38;5;124m'\u001b[39m \u001b[38;5;124m'\u001b[39m\u001b[38;5;124m.\u001b[39m\u001b[38;5;124m'\u001b[39m \u001b[38;5;124m'\u001b[39m\u001b[38;5;124m#\u001b[39m\u001b[38;5;124m'\u001b[39m]\n\u001b[1;32m     49\u001b[0m  [\u001b[38;5;124m'\u001b[39m\u001b[38;5;124m.\u001b[39m\u001b[38;5;124m'\u001b[39m \u001b[38;5;124m'\u001b[39m\u001b[38;5;124m.\u001b[39m\u001b[38;5;124m'\u001b[39m \u001b[38;5;124m'\u001b[39m\u001b[38;5;124m#\u001b[39m\u001b[38;5;124m'\u001b[39m \u001b[38;5;124m'\u001b[39m\u001b[38;5;124m#\u001b[39m\u001b[38;5;124m'\u001b[39m \u001b[38;5;124m'\u001b[39m\u001b[38;5;124m#\u001b[39m\u001b[38;5;124m'\u001b[39m \u001b[38;5;124m'\u001b[39m\u001b[38;5;124m#\u001b[39m\u001b[38;5;124m'\u001b[39m \u001b[38;5;124m'\u001b[39m\u001b[38;5;124m.\u001b[39m\u001b[38;5;124m'\u001b[39m]\n\u001b[1;32m     50\u001b[0m  [\u001b[38;5;124m'\u001b[39m\u001b[38;5;124m.\u001b[39m\u001b[38;5;124m'\u001b[39m \u001b[38;5;124m'\u001b[39m\u001b[38;5;124m#\u001b[39m\u001b[38;5;124m'\u001b[39m \u001b[38;5;124m'\u001b[39m\u001b[38;5;124m#\u001b[39m\u001b[38;5;124m'\u001b[39m \u001b[38;5;124m'\u001b[39m\u001b[38;5;124m.\u001b[39m\u001b[38;5;124m'\u001b[39m \u001b[38;5;124m'\u001b[39m\u001b[38;5;124m#\u001b[39m\u001b[38;5;124m'\u001b[39m \u001b[38;5;124m'\u001b[39m\u001b[38;5;124m#\u001b[39m\u001b[38;5;124m'\u001b[39m \u001b[38;5;124m'\u001b[39m\u001b[38;5;124m#\u001b[39m\u001b[38;5;124m'\u001b[39m]\n\u001b[1;32m     51\u001b[0m  [\u001b[38;5;124m'\u001b[39m\u001b[38;5;124m.\u001b[39m\u001b[38;5;124m'\u001b[39m \u001b[38;5;124m'\u001b[39m\u001b[38;5;124m#\u001b[39m\u001b[38;5;124m'\u001b[39m \u001b[38;5;124m'\u001b[39m\u001b[38;5;124m.\u001b[39m\u001b[38;5;124m'\u001b[39m \u001b[38;5;124m'\u001b[39m\u001b[38;5;124m.\u001b[39m\u001b[38;5;124m'\u001b[39m \u001b[38;5;124m'\u001b[39m\u001b[38;5;124m#\u001b[39m\u001b[38;5;124m'\u001b[39m \u001b[38;5;124m'\u001b[39m\u001b[38;5;124m.\u001b[39m\u001b[38;5;124m'\u001b[39m \u001b[38;5;124m'\u001b[39m\u001b[38;5;124m.\u001b[39m\u001b[38;5;124m'\u001b[39m]\n\u001b[1;32m     52\u001b[0m  [\u001b[38;5;124m'\u001b[39m\u001b[38;5;124m#\u001b[39m\u001b[38;5;124m'\u001b[39m \u001b[38;5;124m'\u001b[39m\u001b[38;5;124m#\u001b[39m\u001b[38;5;124m'\u001b[39m \u001b[38;5;124m'\u001b[39m\u001b[38;5;124m.\u001b[39m\u001b[38;5;124m'\u001b[39m \u001b[38;5;124m'\u001b[39m\u001b[38;5;124m.\u001b[39m\u001b[38;5;124m'\u001b[39m \u001b[38;5;124m'\u001b[39m\u001b[38;5;124m.\u001b[39m\u001b[38;5;124m'\u001b[39m \u001b[38;5;124m'\u001b[39m\u001b[38;5;124m.\u001b[39m\u001b[38;5;124m'\u001b[39m \u001b[38;5;124m'\u001b[39m\u001b[38;5;124m.\u001b[39m\u001b[38;5;124m'\u001b[39m]\n\u001b[1;32m     53\u001b[0m  [\u001b[38;5;124m'\u001b[39m\u001b[38;5;124m#\u001b[39m\u001b[38;5;124m'\u001b[39m \u001b[38;5;124m'\u001b[39m\u001b[38;5;124m.\u001b[39m\u001b[38;5;124m'\u001b[39m \u001b[38;5;124m'\u001b[39m\u001b[38;5;124m#\u001b[39m\u001b[38;5;124m'\u001b[39m \u001b[38;5;124m'\u001b[39m\u001b[38;5;124m#\u001b[39m\u001b[38;5;124m'\u001b[39m \u001b[38;5;124m'\u001b[39m\u001b[38;5;124m#\u001b[39m\u001b[38;5;124m'\u001b[39m \u001b[38;5;124m'\u001b[39m\u001b[38;5;124m.\u001b[39m\u001b[38;5;124m'\u001b[39m \u001b[38;5;124m'\u001b[39m\u001b[38;5;124m#\u001b[39m\u001b[38;5;124m'\u001b[39m]\n\u001b[1;32m     54\u001b[0m  [\u001b[38;5;124m'\u001b[39m\u001b[38;5;124m#\u001b[39m\u001b[38;5;124m'\u001b[39m \u001b[38;5;124m'\u001b[39m\u001b[38;5;124m#\u001b[39m\u001b[38;5;124m'\u001b[39m \u001b[38;5;124m'\u001b[39m\u001b[38;5;124m.\u001b[39m\u001b[38;5;124m'\u001b[39m \u001b[38;5;124m'\u001b[39m\u001b[38;5;124m.\u001b[39m\u001b[38;5;124m'\u001b[39m \u001b[38;5;124m'\u001b[39m\u001b[38;5;124m.\u001b[39m\u001b[38;5;124m'\u001b[39m \u001b[38;5;124m'\u001b[39m\u001b[38;5;124m.\u001b[39m\u001b[38;5;124m'\u001b[39m \u001b[38;5;124m'\u001b[39m\u001b[38;5;124m.\u001b[39m\u001b[38;5;124m'\u001b[39m]\n\u001b[1;32m     55\u001b[0m  [\u001b[38;5;124m'\u001b[39m\u001b[38;5;124m#\u001b[39m\u001b[38;5;124m'\u001b[39m \u001b[38;5;124m'\u001b[39m\u001b[38;5;124m#\u001b[39m\u001b[38;5;124m'\u001b[39m \u001b[38;5;124m'\u001b[39m\u001b[38;5;124m.\u001b[39m\u001b[38;5;124m'\u001b[39m \u001b[38;5;124m'\u001b[39m\u001b[38;5;124m.\u001b[39m\u001b[38;5;124m'\u001b[39m \u001b[38;5;124m'\u001b[39m\u001b[38;5;124m.\u001b[39m\u001b[38;5;124m'\u001b[39m \u001b[38;5;124m'\u001b[39m\u001b[38;5;124m.\u001b[39m\u001b[38;5;124m'\u001b[39m \u001b[38;5;124m'\u001b[39m\u001b[38;5;124m.\u001b[39m\u001b[38;5;124m'\u001b[39m]\n\u001b[1;32m     56\u001b[0m  [\u001b[38;5;124m'\u001b[39m\u001b[38;5;124m#\u001b[39m\u001b[38;5;124m'\u001b[39m \u001b[38;5;124m'\u001b[39m\u001b[38;5;124m.\u001b[39m\u001b[38;5;124m'\u001b[39m \u001b[38;5;124m'\u001b[39m\u001b[38;5;124m#\u001b[39m\u001b[38;5;124m'\u001b[39m \u001b[38;5;124m'\u001b[39m\u001b[38;5;124m#\u001b[39m\u001b[38;5;124m'\u001b[39m \u001b[38;5;124m'\u001b[39m\u001b[38;5;124m#\u001b[39m\u001b[38;5;124m'\u001b[39m \u001b[38;5;124m'\u001b[39m\u001b[38;5;124m.\u001b[39m\u001b[38;5;124m'\u001b[39m \u001b[38;5;124m'\u001b[39m\u001b[38;5;124m#\u001b[39m\u001b[38;5;124m'\u001b[39m]]\n\u001b[1;32m     57\u001b[0m )\n\u001b[1;32m     58\u001b[0m \u001b[38;5;28mprint\u001b[39m(grids)\n",
            "\u001b[0;31mTypeError\u001b[0m: list indices must be integers or slices, not str"
          ]
        }
      ],
      "source": [
        "import numpy as np\n",
        "is_sample = False\n",
        "\n",
        "try:\n",
        "  input = open(\"input\", \"r\").read().splitlines()\n",
        "except FileNotFoundError:\n",
        "  input = \"\"\"#.##..##.\n",
        "..#.##.#.\n",
        "##......#\n",
        "##......#\n",
        "..#.##.#.\n",
        "..##..##.\n",
        "#.#.##.#.\n",
        "\n",
        "#...##..#\n",
        "#....#..#\n",
        "..##..###\n",
        "#####.##.\n",
        "#####.##.\n",
        "..##..###\n",
        "#....#..#\"\"\"\n",
        "\n",
        "  input = input.split(\"\\n\")\n",
        "  is_sample = True\n",
        "\n",
        "grids = []\n",
        "grid = []\n",
        "for line in input:\n",
        "  #print(line)\n",
        "  if line == \"\":\n",
        "    nin = [[c for c in cl] for cl in grid]\n",
        "    nin = np.array(nin)\n",
        "    grids.append(np.array(nin))\n",
        "    grid = []\n",
        "  else:\n",
        "    grid.append(line)\n",
        "nin = [[c for c in cl] for cl in grid]\n",
        "nin = np.array(nin)\n",
        "grids.append(np.array(nin))\n",
        "\n",
        "grids.append(\n",
        "   [['.' '#' '.' '.' '#' '.' '.']\n",
        " ['.' '#' '#' '.' '#' '#' '#']\n",
        " ['.' '.' '#' '#' '#' '#' '.']\n",
        " ['#' '#' '.' '#' '#' '.' '#']\n",
        " ['#' '.' '#' '#' '#' '#' '.']\n",
        " ['#' '.' '#' '.' '#' '#' '.']\n",
        " ['#' '#' '.' '#' '#' '.' '#']\n",
        " ['.' '.' '#' '#' '#' '#' '.']\n",
        " ['.' '#' '#' '.' '#' '#' '#']\n",
        " ['.' '#' '.' '.' '#' '.' '.']\n",
        " ['#' '#' '.' '.' '.' '.' '.']\n",
        " ['#' '.' '#' '#' '#' '.' '#']\n",
        " ['#' '#' '.' '.' '.' '.' '.']\n",
        " ['#' '#' '.' '.' '.' '.' '.']\n",
        " ['#' '.' '#' '#' '#' '.' '#']]\n",
        ")\n",
        "print(grids)\n",
        "\n",
        "\n"
      ]
    },
    {
      "cell_type": "markdown",
      "metadata": {
        "id": "ZkJcxUGJvqa1"
      },
      "source": [
        "## Functions and Classes\n",
        "\n"
      ]
    },
    {
      "cell_type": "code",
      "execution_count": 30,
      "metadata": {},
      "outputs": [
        {
          "name": "stdout",
          "output_type": "stream",
          "text": [
            "0\n"
          ]
        }
      ],
      "source": [
        "def get_horiz(grid):\n",
        "    #print(grid)\n",
        "    #print()\n",
        "    mirrors = set()\n",
        "    for i in range(1, (len(grid)+1)//2):\n",
        "        refl = np.flip(grid[0:i], axis=0)\n",
        "        comp = grid[i:i*2]\n",
        "        #print(refl)\n",
        "        #print(comp)\n",
        "        if np.array_equal(refl, comp):\n",
        "            return i\n",
        "            mirrors.add(i)\n",
        "\n",
        "        refl = np.flip(grid[-i:], axis=0)\n",
        "        comp = grid[-i*2:-i]\n",
        "        #print(refl)\n",
        "        #print(comp)\n",
        "        if np.array_equal(refl, comp):\n",
        "            return len(grid) - i\n",
        "            mirrors.add(len(grid) - i)\n",
        "    return 0\n",
        "    #return mirrors\n",
        "\n",
        "\n",
        "print(get_horiz(grids[1]))"
      ]
    },
    {
      "cell_type": "code",
      "execution_count": 31,
      "metadata": {},
      "outputs": [
        {
          "name": "stdout",
          "output_type": "stream",
          "text": [
            "0\n"
          ]
        }
      ],
      "source": [
        "def get_vert(grid):\n",
        "    #print(grid)\n",
        "    mirrors = set()\n",
        "    cols = grid.shape[1]\n",
        "    #print(cols)\n",
        "    for i in range(1, (cols+1)//2):\n",
        "        #refl = np.flip(grid[:i], axis=1)\n",
        "        refl = np.flip(grid[:,0:i], axis=1)\n",
        "        comp = grid[:,i:i*2]\n",
        "        #print(refl)\n",
        "        #print(comp)\n",
        "        if np.array_equal(refl, comp):\n",
        "            return i\n",
        "\n",
        "        refl = np.flip(grid[:,-i:], axis=1)\n",
        "        comp = grid[:,-i*2:-i]\n",
        "        #print(refl)\n",
        "        #print(comp)\n",
        "        if np.array_equal(refl, comp):\n",
        "            return cols - i\n",
        "    return 0\n",
        "    #return mirrors\n",
        "\n",
        "print(get_vert(grids[0]))"
      ]
    },
    {
      "cell_type": "markdown",
      "metadata": {},
      "source": [
        "## Part 1"
      ]
    },
    {
      "cell_type": "code",
      "execution_count": 32,
      "metadata": {},
      "outputs": [
        {
          "name": "stdout",
          "output_type": "stream",
          "text": [
            "42974\n"
          ]
        }
      ],
      "source": [
        "res = 0\n",
        "\n",
        "for grid in grids:\n",
        "    vert = get_vert(grid)\n",
        "    horz = get_horiz(grid)\n",
        "\n",
        "    res += vert\n",
        "    res += (horz * 100)\n",
        "\n",
        "print(res)\n",
        "assert(res == 405 or res == 42974)"
      ]
    },
    {
      "cell_type": "markdown",
      "metadata": {},
      "source": [
        "## Part 2"
      ]
    },
    {
      "cell_type": "code",
      "execution_count": 35,
      "metadata": {},
      "outputs": [],
      "source": [
        "def get_score(grid):\n",
        "    score = get_horiz(grid) * 100 + get_vert(grid)\n",
        "    for i in range(grid.shape[0]):\n",
        "        for j in range(grid.shape[1]):\n",
        "            grid[i, j] = \".\" if grid[i, j] == \"#\" else \"#\"\n",
        "            horz = get_horiz(grid)\n",
        "            grid[i, j] = \".\" if grid[i, j] == \"#\" else \"#\"\n",
        "            if horz > 0 and horz * 100 != score:\n",
        "                return 100 * horz\n",
        "\n",
        "            grid[i, j] = \".\" if grid[i, j] == \"#\" else \"#\"\n",
        "            vert = get_vert(grid)\n",
        "            grid[i, j] = \".\" if grid[i, j] == \"#\" else \"#\"\n",
        "            if vert > 0 and vert != score:\n",
        "                return vert\n",
        "    raise Exception(grid)"
      ]
    },
    {
      "cell_type": "code",
      "execution_count": 36,
      "metadata": {},
      "outputs": [
        {
          "ename": "Exception",
          "evalue": "[['.' '#' '.' '.' '#' '.' '.']\n ['.' '#' '#' '.' '#' '#' '#']\n ['.' '.' '#' '#' '#' '#' '.']\n ['#' '#' '.' '#' '#' '.' '#']\n ['#' '.' '#' '#' '#' '#' '.']\n ['#' '.' '#' '.' '#' '#' '.']\n ['#' '#' '.' '#' '#' '.' '#']\n ['.' '.' '#' '#' '#' '#' '.']\n ['.' '#' '#' '.' '#' '#' '#']\n ['.' '#' '.' '.' '#' '.' '.']\n ['#' '#' '.' '.' '.' '.' '.']\n ['#' '.' '#' '#' '#' '.' '#']\n ['#' '#' '.' '.' '.' '.' '.']\n ['#' '#' '.' '.' '.' '.' '.']\n ['#' '.' '#' '#' '#' '.' '#']]",
          "output_type": "error",
          "traceback": [
            "\u001b[0;31m---------------------------------------------------------------------------\u001b[0m",
            "\u001b[0;31mException\u001b[0m                                 Traceback (most recent call last)",
            "Cell \u001b[0;32mIn[36], line 4\u001b[0m\n\u001b[1;32m      1\u001b[0m res \u001b[38;5;241m=\u001b[39m \u001b[38;5;241m0\u001b[39m\n\u001b[1;32m      3\u001b[0m \u001b[38;5;28;01mfor\u001b[39;00m grid \u001b[38;5;129;01min\u001b[39;00m grids:\n\u001b[0;32m----> 4\u001b[0m     res \u001b[38;5;241m+\u001b[39m\u001b[38;5;241m=\u001b[39m \u001b[43mget_score\u001b[49m\u001b[43m(\u001b[49m\u001b[43mgrid\u001b[49m\u001b[43m)\u001b[49m\n\u001b[1;32m      6\u001b[0m \u001b[38;5;28mprint\u001b[39m(res)\n\u001b[1;32m      7\u001b[0m \u001b[38;5;28;01massert\u001b[39;00m(res \u001b[38;5;241m==\u001b[39m \u001b[38;5;241m400\u001b[39m)\n",
            "Cell \u001b[0;32mIn[35], line 16\u001b[0m, in \u001b[0;36mget_score\u001b[0;34m(grid)\u001b[0m\n\u001b[1;32m     14\u001b[0m         \u001b[38;5;28;01mif\u001b[39;00m vert \u001b[38;5;241m>\u001b[39m \u001b[38;5;241m0\u001b[39m \u001b[38;5;129;01mand\u001b[39;00m vert \u001b[38;5;241m!=\u001b[39m score:\n\u001b[1;32m     15\u001b[0m             \u001b[38;5;28;01mreturn\u001b[39;00m vert\n\u001b[0;32m---> 16\u001b[0m \u001b[38;5;28;01mraise\u001b[39;00m \u001b[38;5;167;01mException\u001b[39;00m(grid)\n",
            "\u001b[0;31mException\u001b[0m: [['.' '#' '.' '.' '#' '.' '.']\n ['.' '#' '#' '.' '#' '#' '#']\n ['.' '.' '#' '#' '#' '#' '.']\n ['#' '#' '.' '#' '#' '.' '#']\n ['#' '.' '#' '#' '#' '#' '.']\n ['#' '.' '#' '.' '#' '#' '.']\n ['#' '#' '.' '#' '#' '.' '#']\n ['.' '.' '#' '#' '#' '#' '.']\n ['.' '#' '#' '.' '#' '#' '#']\n ['.' '#' '.' '.' '#' '.' '.']\n ['#' '#' '.' '.' '.' '.' '.']\n ['#' '.' '#' '#' '#' '.' '#']\n ['#' '#' '.' '.' '.' '.' '.']\n ['#' '#' '.' '.' '.' '.' '.']\n ['#' '.' '#' '#' '#' '.' '#']]"
          ]
        }
      ],
      "source": [
        "res = 0\n",
        "\n",
        "for grid in grids:\n",
        "    res += get_score(grid)\n",
        "\n",
        "print(res)\n",
        "assert(res == 400)"
      ]
    }
  ],
  "metadata": {
    "colab": {
      "authorship_tag": "ABX9TyOm395W/3CnLlVjsksb/bEH",
      "include_colab_link": true,
      "provenance": []
    },
    "kernelspec": {
      "display_name": "Python 3",
      "name": "python3"
    },
    "language_info": {
      "codemirror_mode": {
        "name": "ipython",
        "version": 3
      },
      "file_extension": ".py",
      "mimetype": "text/x-python",
      "name": "python",
      "nbconvert_exporter": "python",
      "pygments_lexer": "ipython3",
      "version": "3.10.13"
    }
  },
  "nbformat": 4,
  "nbformat_minor": 0
}
