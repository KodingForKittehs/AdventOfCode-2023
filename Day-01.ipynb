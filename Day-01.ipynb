{
  "cells": [
    {
      "cell_type": "markdown",
      "metadata": {
        "id": "w8ceaZ_mk7lS"
      },
      "source": [
        "# [--- Day 1: Trebuchet?! ---](https://adventofcode.com/2023/day/1)\n",
        "\n",
        "* Themes: Regex, maps and brute force carnage."
      ]
    },
    {
      "cell_type": "code",
      "execution_count": null,
      "metadata": {
        "colab": {
          "base_uri": "https://localhost:8080/"
        },
        "id": "pG0fZk4xjQL8",
        "outputId": "e91d9f9b-9a12-46d5-ce50-1eac752e1b86"
      },
      "outputs": [
        {
          "name": "stdout",
          "output_type": "stream",
          "text": [
            "['1abc2\\n', 'pqr3stu8vwx\\n', 'a1b2c3d4e5f\\n', 'treb7uchet']\n"
          ]
        }
      ],
      "source": [
        "from pprint import pprint\n",
        "\n",
        "try:\n",
        "  input = open(\"input\", \"r\").readlines()\n",
        "except FileNotFoundError:\n",
        "  input = \"\"\"1abc2\n",
        "pqr3stu8vwx\n",
        "a1b2c3d4e5f\n",
        "treb7uchet\"\"\"\n",
        "  input = input.split(\"\\n\")\n",
        "print(input)\n"
      ]
    },
    {
      "cell_type": "markdown",
      "metadata": {
        "id": "-PObzBLWyWo6"
      },
      "source": [
        "## Part 1\n",
        "\n",
        "Solution using regex to find all the numbers in a string and fetch the first and last from the resulting `nums`"
      ]
    },
    {
      "cell_type": "code",
      "execution_count": null,
      "metadata": {
        "colab": {
          "base_uri": "https://localhost:8080/"
        },
        "id": "qAhUAU4wxjcF",
        "outputId": "ca6a9a1d-790c-4dd3-bb4c-f7b75cf4cb3b"
      },
      "outputs": [
        {
          "name": "stdout",
          "output_type": "stream",
          "text": [
            "1abc2\n",
            " - ['1', '2'] - 12\n",
            "pqr3stu8vwx\n",
            " - ['3', '8'] - 38\n",
            "a1b2c3d4e5f\n",
            " - ['1', '2', '3', '4', '5'] - 15\n",
            "treb7uchet - ['7'] - 77\n",
            "142\n"
          ]
        }
      ],
      "source": [
        "import re\n",
        "\n",
        "total = 0\n",
        "for line in input:\n",
        "  nums = re.findall('[0-9]', line)\n",
        "  sum = int(nums[0] + nums[-1])\n",
        "  print(f\"{line} - {nums} - {sum}\")\n",
        "  total += sum\n",
        "print(total)"
      ]
    },
    {
      "cell_type": "markdown",
      "metadata": {
        "id": "4yF8prx10wii"
      },
      "source": [
        "## Part 2\n",
        "\n",
        "The problem is easy to understand, but easy to miss overlapping cases, such as `oneight`."
      ]
    },
    {
      "cell_type": "code",
      "execution_count": null,
      "metadata": {
        "colab": {
          "base_uri": "https://localhost:8080/"
        },
        "id": "BU3fsIlP10TA",
        "outputId": "e8a14ae8-33d0-4e69-a032-9fa8a63d8e95"
      },
      "outputs": [
        {
          "name": "stdout",
          "output_type": "stream",
          "text": [
            "['1abc2\\n', 'pqr3stu8vwx\\n', 'a1b2c3d4e5f\\n', 'treb7uchet']\n"
          ]
        }
      ],
      "source": [
        "try:\n",
        "  input = open(\"input\", \"r\").readlines()\n",
        "except FileNotFoundError:\n",
        "  input = \"\"\"two1nine\n",
        "eightwothree\n",
        "abcone2threexyz\n",
        "xtwone3four\n",
        "4nineeightseven2\n",
        "zoneight234\n",
        "7pqrstsixteen\"\"\"\n",
        "  input = input.split(\"\\n\")\n",
        "pprint(input)"
      ]
    },
    {
      "cell_type": "markdown",
      "metadata": {
        "id": "LXJosKy_18II"
      },
      "source": [
        "Setup some mapping of text -> numbers to be used in the concat phase."
      ]
    },
    {
      "cell_type": "code",
      "execution_count": null,
      "metadata": {
        "colab": {
          "base_uri": "https://localhost:8080/"
        },
        "id": "qPdWZp1Ux-EW",
        "outputId": "7f831f9d-cb2c-4cc2-9f31-ae9d69c84034"
      },
      "outputs": [
        {
          "name": "stdout",
          "output_type": "stream",
          "text": [
            "{'1': '1',\n",
            " '2': '2',\n",
            " '3': '3',\n",
            " '4': '4',\n",
            " '5': '5',\n",
            " '6': '6',\n",
            " '7': '7',\n",
            " '8': '8',\n",
            " '9': '9',\n",
            " 'eight': '8',\n",
            " 'five': '5',\n",
            " 'four': '4',\n",
            " 'nine': '9',\n",
            " 'one': '1',\n",
            " 'seven': '7',\n",
            " 'six': '6',\n",
            " 'three': '3',\n",
            " 'two': '2'}\n"
          ]
        }
      ],
      "source": [
        "textnums = [\"one\", \"two\", \"three\", \"four\",\n",
        "            \"five\", \"six\", \"seven\", \"eight\", \"nine\"]\n",
        "mapping = {\n",
        "    text: str(i + 1) for (i, text) in enumerate(textnums)}\n",
        "for i in range(1, 10):\n",
        "  mapping[str(i)] = str(i)\n",
        "\n",
        "pprint(mapping)\n",
        "\n"
      ]
    },
    {
      "cell_type": "markdown",
      "metadata": {
        "id": "g45RD849KS4_"
      },
      "source": [
        "Nice eh."
      ]
    },
    {
      "cell_type": "markdown",
      "metadata": {
        "id": "hVj8VOmL3X62"
      },
      "source": [
        "Ugly loop mindlessly using `startswith`, probably some better way to do this with regex, but it works and is simple enough."
      ]
    },
    {
      "cell_type": "code",
      "execution_count": null,
      "metadata": {
        "colab": {
          "base_uri": "https://localhost:8080/"
        },
        "id": "3k3b_4X31uMB",
        "outputId": "b697fdb1-034a-479c-ab87-9243150b7bb2"
      },
      "outputs": [
        {
          "name": "stdout",
          "output_type": "stream",
          "text": [
            "142\n"
          ]
        }
      ],
      "source": [
        "total = 0\n",
        "for line in input:\n",
        "  nums = []\n",
        "  for i in range(0, len(line)):\n",
        "    subline = line[i:]\n",
        "    for key in mapping.keys():\n",
        "      if subline.startswith(key):\n",
        "        nums.append(mapping[key])\n",
        "  sum = int(nums[0] + nums[-1])\n",
        "  total += sum\n",
        "print(total)"
      ]
    },
    {
      "cell_type": "markdown",
      "metadata": {
        "id": "bork7PbMy718"
      },
      "source": [
        "Questions:\n",
        "- Can regex yank out `one` and `eight` from the text `oneight`?\n",
        "\n"
      ]
    },
    {
      "cell_type": "markdown",
      "metadata": {
        "id": "msgcrUJ19tYa"
      },
      "source": [
        "Things Learned\n",
        "- Use the samples, debugging a large input file is nasty."
      ]
    }
  ],
  "metadata": {
    "colab": {
      "authorship_tag": "ABX9TyOXY3epqVL9cmyY+4w8UOdV",
      "include_colab_link": true,
      "provenance": []
    },
    "kernelspec": {
      "display_name": "Python 3",
      "name": "python3"
    },
    "language_info": {
      "name": "python"
    }
  },
  "nbformat": 4,
  "nbformat_minor": 0
}
