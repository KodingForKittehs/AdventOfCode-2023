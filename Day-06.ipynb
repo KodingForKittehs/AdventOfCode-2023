{
  "cells": [
    {
      "cell_type": "markdown",
      "metadata": {
        "id": "w8ceaZ_mk7lS"
      },
      "source": [
        "# [--- Day 6: Wait For It ---](https://adventofcode.com/2023/day/6)\n",
        "\n",
        "* Themes: Mathy, looks like you can solve an equation, or go full Brute Force Warrior, I chose the latter.."
      ]
    },
    {
      "cell_type": "markdown",
      "metadata": {
        "id": "fvqtPafJvU7U"
      },
      "source": [
        "## Setup\n",
        "\n",
        "Use the `input` file if present, otherwise use the sample input."
      ]
    },
    {
      "cell_type": "code",
      "execution_count": 1,
      "metadata": {
        "colab": {
          "base_uri": "https://localhost:8080/"
        },
        "id": "pG0fZk4xjQL8",
        "outputId": "59f3c469-60a3-4e95-9452-7be148fc467a"
      },
      "outputs": [
        {
          "name": "stdout",
          "output_type": "stream",
          "text": [
            "['Time:      7  15   30', 'Distance:  9  40  200']\n",
            "[7, 15, 30] [9, 40, 200]\n"
          ]
        }
      ],
      "source": [
        "from pprint import pprint\n",
        "import numpy as np\n",
        "from matplotlib import pyplot as plt\n",
        "\n",
        "verbose = True\n",
        "is_sample = False\n",
        "\n",
        "try:\n",
        "  input = open(\"input\", \"r\").read().splitlines()\n",
        "except FileNotFoundError:\n",
        "  input = \"\"\"Time:      7  15   30\n",
        "Distance:  9  40  200\"\"\"\n",
        "  input = input.split(\"\\n\")\n",
        "  verbose = True\n",
        "  is_sample = True\n",
        "\n",
        "if verbose:\n",
        "  pprint(input)\n",
        "\n",
        "times = [int(i) for i in input[0].split(\":\")[1].split()]\n",
        "distances = [int(i) for i in input[1].split(\":\")[1].split()]\n",
        "\n",
        "print(times, distances)\n"
      ]
    },
    {
      "cell_type": "markdown",
      "metadata": {
        "id": "-PObzBLWyWo6"
      },
      "source": [
        "## Part 1\n"
      ]
    },
    {
      "cell_type": "code",
      "execution_count": 3,
      "metadata": {
        "colab": {
          "base_uri": "https://localhost:8080/"
        },
        "id": "bg3Vvm9fzPfy",
        "outputId": "0126f5b9-6646-4c67-f1cd-fb925f06710e"
      },
      "outputs": [
        {
          "name": "stdout",
          "output_type": "stream",
          "text": [
            "7 9\n",
            "15 40\n",
            "30 200\n",
            "288\n"
          ]
        }
      ],
      "source": [
        "wins = []\n",
        "\n",
        "for (time, dist) in zip(times, distances):\n",
        "  print(time, dist)\n",
        "\n",
        "  win = 0\n",
        "  for i in range(time):\n",
        "    speed = i\n",
        "    my_dist = (time - i) * speed\n",
        "    if my_dist > dist:\n",
        "      win += 1\n",
        "  wins.append(win)\n",
        "\n",
        "res = 1\n",
        "for win in wins:\n",
        "  res *= win\n",
        "\n",
        "print(res)\n",
        "\n",
        "if is_sample:\n",
        "  assert(res == 288)"
      ]
    },
    {
      "cell_type": "markdown",
      "metadata": {
        "id": "s_f4PY5AlngI"
      },
      "source": [
        "## Part 2"
      ]
    },
    {
      "cell_type": "code",
      "execution_count": 4,
      "metadata": {
        "colab": {
          "base_uri": "https://localhost:8080/"
        },
        "id": "QGV9Xl4kluCQ",
        "outputId": "fb9380cd-13f6-47e8-bc10-07f389b7bda5"
      },
      "outputs": [
        {
          "name": "stdout",
          "output_type": "stream",
          "text": [
            "['Time:      7  15   30', 'Distance:  9  40  200']\n",
            "71530 940200\n",
            "71503\n"
          ]
        }
      ],
      "source": [
        "print(input)\n",
        "\n",
        "\n",
        "time = int(input[0].split(\":\")[1].replace(\" \", \"\"))\n",
        "dist = int(input[1].split(\":\")[1].replace(\" \", \"\"))\n",
        "\n",
        "print(time, dist)\n",
        "\n",
        "win = 0\n",
        "for i in range(time):\n",
        "  speed = i\n",
        "  my_dist = (time - i) * speed\n",
        "  if my_dist > dist:\n",
        "    win += 1\n",
        "\n",
        "print(win)\n",
        "\n",
        "if is_sample:\n",
        "  assert(win == 71503)\n"
      ]
    }
  ],
  "metadata": {
    "colab": {
      "authorship_tag": "ABX9TyMEV370zLoqcXRgT0/byCFL",
      "include_colab_link": true,
      "provenance": []
    },
    "kernelspec": {
      "display_name": "Python 3",
      "name": "python3"
    },
    "language_info": {
      "name": "python"
    }
  },
  "nbformat": 4,
  "nbformat_minor": 0
}
