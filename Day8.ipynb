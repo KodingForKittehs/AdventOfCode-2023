{
  "nbformat": 4,
  "nbformat_minor": 0,
  "metadata": {
    "colab": {
      "provenance": [],
      "authorship_tag": "ABX9TyM+coCHByOw8rND69THVUhF"
    },
    "kernelspec": {
      "name": "python3",
      "display_name": "Python 3"
    },
    "language_info": {
      "name": "python"
    }
  },
  "cells": [
    {
      "cell_type": "markdown",
      "source": [
        "# [--- Day 8: Haunted Wasteland ---](https://adventofcode.com/2023/day/8)"
      ],
      "metadata": {
        "id": "w8ceaZ_mk7lS"
      }
    },
    {
      "cell_type": "markdown",
      "source": [
        "## Setup\n",
        "\n",
        "Use the `input` file if present, otherwise use the sample input."
      ],
      "metadata": {
        "id": "fvqtPafJvU7U"
      }
    },
    {
      "cell_type": "code",
      "source": [
        "from pprint import pprint\n",
        "import math\n",
        "\n",
        "verbose = False\n",
        "is_sample = False\n",
        "\n",
        "try:\n",
        "  input = open(\"input\", \"r\").read().splitlines()\n",
        "except FileNotFoundError:\n",
        "  part1_sample = \"\"\"LLR\n",
        "\n",
        "AAA = (BBB, BBB)\n",
        "BBB = (AAA, ZZZ)\n",
        "ZZZ = (ZZZ, ZZZ)\"\"\"\n",
        "\n",
        "  part2_sample = \"\"\"LR\n",
        "\n",
        "11A = (11B, XXX)\n",
        "11B = (XXX, 11Z)\n",
        "11Z = (11B, XXX)\n",
        "22A = (22B, XXX)\n",
        "22B = (22C, 22C)\n",
        "22C = (22Z, 22Z)\n",
        "22Z = (22B, 22B)\n",
        "XXX = (XXX, XXX)\"\"\"\n",
        "  input = part1_sample.split(\"\\n\")\n",
        "  input2 = part2_sample.split(\"\\n\")\n",
        "  verbose = True\n",
        "  is_sample = True\n",
        "\n",
        "if verbose:\n",
        "  pprint(input)\n",
        "\n",
        "def get_direction_map(input):\n",
        "  LR = input[0]\n",
        "  direction_map = {}  # Quicky lets make a map\n",
        "\n",
        "  for i in range(2, len(input)):\n",
        "    import re\n",
        "    words = [item for item in re.findall(\"[0-9A-Z]*\", input[i]) if item != '']  # I'm a brute, take that you spaces!\n",
        "    direction_map[words[0]] = [words[1], words[2]]\n",
        "  return input[0], direction_map"
      ],
      "metadata": {
        "id": "pG0fZk4xjQL8",
        "colab": {
          "base_uri": "https://localhost:8080/"
        },
        "outputId": "0a0ee866-4fc9-4d0f-f415-b3c79090eeae"
      },
      "execution_count": 269,
      "outputs": [
        {
          "output_type": "stream",
          "name": "stdout",
          "text": [
            "['LLR', '', 'AAA = (BBB, BBB)', 'BBB = (AAA, ZZZ)', 'ZZZ = (ZZZ, ZZZ)']\n"
          ]
        }
      ]
    },
    {
      "cell_type": "markdown",
      "source": [
        "## Some  Functions and Classes\n",
        "\n"
      ],
      "metadata": {
        "id": "ZkJcxUGJvqa1"
      }
    },
    {
      "cell_type": "code",
      "source": [
        "\n",
        "def get_steps(start, endswith, direction_map):\n",
        "  res = 1\n",
        "  current = start\n",
        "  LR = direction_map[0]\n",
        "\n",
        "  for i in range(0, 100000000):  # avoid accidental infinite loop silliness\n",
        "    dir = LR[i % len(LR)]  # OOPs, somehow I had a 3 in here, assumed LRL was 3 I guess\n",
        "    select = 0 if dir == \"L\" else 1\n",
        "    current = direction_map[1][current][select]\n",
        "    if current.endswith(endswith):\n",
        "      return res\n",
        "    res += 1\n",
        "  raise Exception(\"oops!\")"
      ],
      "metadata": {
        "id": "KHVVMAyF4ntm"
      },
      "execution_count": 270,
      "outputs": []
    },
    {
      "cell_type": "markdown",
      "source": [
        "## Part 1\n"
      ],
      "metadata": {
        "id": "-PObzBLWyWo6"
      }
    },
    {
      "cell_type": "code",
      "source": [
        "res = get_steps(\"AAA\", \"ZZZ\", get_direction_map(input))\n",
        "print(res)\n",
        "if is_sample:\n",
        "  assert(res == 2 or res == 6)"
      ],
      "metadata": {
        "id": "bg3Vvm9fzPfy",
        "colab": {
          "base_uri": "https://localhost:8080/"
        },
        "outputId": "8038cc2f-a253-4bc7-d45a-bc54718a409c"
      },
      "execution_count": 271,
      "outputs": [
        {
          "output_type": "stream",
          "name": "stdout",
          "text": [
            "6\n"
          ]
        }
      ]
    },
    {
      "cell_type": "markdown",
      "source": [
        "## Part 2"
      ],
      "metadata": {
        "id": "s_f4PY5AlngI"
      }
    },
    {
      "cell_type": "code",
      "source": [
        "starts = {}\n",
        "dmap = get_direction_map(input2)\n",
        "for key in dmap[1].keys():\n",
        "  if key.endswith(\"A\"):\n",
        "    starts[key] = get_steps(key, \"Z\", dmap)\n",
        "\n",
        "res = math.lcm(*tuple(list(starts.values())))\n",
        "print(res)\n",
        "if is_sample:\n",
        "  assert(res == 6)\n"
      ],
      "metadata": {
        "id": "QGV9Xl4kluCQ",
        "colab": {
          "base_uri": "https://localhost:8080/"
        },
        "outputId": "2bea5169-5829-4b59-f6b5-2e6378138872"
      },
      "execution_count": 272,
      "outputs": [
        {
          "output_type": "stream",
          "name": "stdout",
          "text": [
            "6\n"
          ]
        }
      ]
    }
  ]
}